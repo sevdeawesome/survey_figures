{
 "cells": [
  {
   "cell_type": "code",
   "execution_count": 1,
   "metadata": {},
   "outputs": [
    {
     "name": "stderr",
     "output_type": "stream",
     "text": [
      "c:\\Users\\sevi\\anaconda3\\lib\\site-packages\\scipy\\__init__.py:138: UserWarning: A NumPy version >=1.16.5 and <1.23.0 is required for this version of SciPy (detected version 1.24.4)\n",
      "  warnings.warn(f\"A NumPy version >={np_minversion} and <{np_maxversion} is required for this version of \"\n"
     ]
    }
   ],
   "source": [
    "import pandas as pd\n",
    "\n",
    "import numpy as np\n",
    "import seaborn as sns\n",
    "import matplotlib.pyplot as plt\n",
    "from utils import *\n",
    "\n",
    "plt.style.use('../style.mplstyle')\n",
    "df = pd.read_csv(\"../latest.csv\")"
   ]
  },
  {
   "cell_type": "code",
   "execution_count": 2,
   "metadata": {},
   "outputs": [],
   "source": []
  },
  {
   "cell_type": "code",
   "execution_count": 2,
   "metadata": {},
   "outputs": [],
   "source": [
    "df = fix_data(df, drop_zeros=False)"
   ]
  },
  {
   "cell_type": "code",
   "execution_count": 3,
   "metadata": {},
   "outputs": [
    {
     "name": "stdout",
     "output_type": "stream",
     "text": [
      "length of df:  106\n",
      "\n",
      "\n"
     ]
    },
    {
     "data": {
      "text/html": [
       "<div>\n",
       "<style scoped>\n",
       "    .dataframe tbody tr th:only-of-type {\n",
       "        vertical-align: middle;\n",
       "    }\n",
       "\n",
       "    .dataframe tbody tr th {\n",
       "        vertical-align: top;\n",
       "    }\n",
       "\n",
       "    .dataframe thead th {\n",
       "        text-align: right;\n",
       "    }\n",
       "</style>\n",
       "<table border=\"1\" class=\"dataframe\">\n",
       "  <thead>\n",
       "    <tr style=\"text-align: right;\">\n",
       "      <th></th>\n",
       "      <th>StartDate</th>\n",
       "      <th>reading</th>\n",
       "      <th>Duration</th>\n",
       "      <th>Progress</th>\n",
       "      <th>Finished</th>\n",
       "      <th>Q42</th>\n",
       "      <th>Q43</th>\n",
       "      <th>Q1</th>\n",
       "      <th>Q1_7_TEXT</th>\n",
       "      <th>Q2</th>\n",
       "      <th>...</th>\n",
       "      <th>Q16_3</th>\n",
       "      <th>Q16_4</th>\n",
       "      <th>Q16_5</th>\n",
       "      <th>Q16_6</th>\n",
       "      <th>Q16_7</th>\n",
       "      <th>Q16_8</th>\n",
       "      <th>Q16_9</th>\n",
       "      <th>Q17</th>\n",
       "      <th>Q18</th>\n",
       "      <th>Q46</th>\n",
       "    </tr>\n",
       "  </thead>\n",
       "  <tbody>\n",
       "    <tr>\n",
       "      <th>0</th>\n",
       "      <td>2024-08-08 23:30:29</td>\n",
       "      <td>7</td>\n",
       "      <td>118</td>\n",
       "      <td>100</td>\n",
       "      <td>True</td>\n",
       "      <td>Agree</td>\n",
       "      <td>LinkedIn DM</td>\n",
       "      <td>Industry</td>\n",
       "      <td>NaN</td>\n",
       "      <td>2.0</td>\n",
       "      <td>...</td>\n",
       "      <td>Somewhat agree</td>\n",
       "      <td>Somewhat agree</td>\n",
       "      <td>Somewhat agree</td>\n",
       "      <td>Somewhat agree</td>\n",
       "      <td>Somewhat agree</td>\n",
       "      <td>Somewhat agree</td>\n",
       "      <td>Somewhat agree</td>\n",
       "      <td>NaN</td>\n",
       "      <td>NaN</td>\n",
       "      <td>NaN</td>\n",
       "    </tr>\n",
       "  </tbody>\n",
       "</table>\n",
       "<p>1 rows × 41 columns</p>\n",
       "</div>"
      ],
      "text/plain": [
       "             StartDate  reading  Duration  Progress  Finished    Q42  \\\n",
       "0  2024-08-08 23:30:29        7       118       100      True  Agree   \n",
       "\n",
       "           Q43        Q1  Q1_7_TEXT   Q2  ...           Q16_3           Q16_4  \\\n",
       "0  LinkedIn DM  Industry        NaN  2.0  ...  Somewhat agree  Somewhat agree   \n",
       "\n",
       "            Q16_5           Q16_6           Q16_7           Q16_8  \\\n",
       "0  Somewhat agree  Somewhat agree  Somewhat agree  Somewhat agree   \n",
       "\n",
       "            Q16_9  Q17  Q18  Q46  \n",
       "0  Somewhat agree  NaN  NaN  NaN  \n",
       "\n",
       "[1 rows x 41 columns]"
      ]
     },
     "execution_count": 3,
     "metadata": {},
     "output_type": "execute_result"
    }
   ],
   "source": [
    "print(\"length of df: \", len(df))\n",
    "print('\\n')\n",
    "df.head(1)"
   ]
  },
  {
   "cell_type": "code",
   "execution_count": 4,
   "metadata": {},
   "outputs": [
    {
     "data": {
      "text/plain": [
       "Index(['StartDate', 'reading', 'Duration', 'Progress', 'Finished', 'Q42',\n",
       "       'Q43', 'Q1', 'Q1_7_TEXT', 'Q2', 'Q3_1', 'Q3_2', 'Q3_3', 'Q3_4', 'Q4_1',\n",
       "       'Q4_2', 'Q4_3', 'Q4_4', 'Q5', 'Q6_1', 'Q6_2', 'Q6_3', 'Q6_4', 'Q6_5',\n",
       "       'Q6_6', 'Q6_7', 'Q6_8', 'Q6_9', 'Q15', 'Q16_1', 'Q16_2', 'Q16_3',\n",
       "       'Q16_4', 'Q16_5', 'Q16_6', 'Q16_7', 'Q16_8', 'Q16_9', 'Q17', 'Q18',\n",
       "       'Q46'],\n",
       "      dtype='object')"
      ]
     },
     "execution_count": 4,
     "metadata": {},
     "output_type": "execute_result"
    }
   ],
   "source": [
    "df.columns"
   ]
  },
  {
   "cell_type": "code",
   "execution_count": 5,
   "metadata": {},
   "outputs": [],
   "source": [
    "# drop everything but Q1 and Q5\n",
    "df = df[['Q1', 'Q5']]"
   ]
  },
  {
   "cell_type": "markdown",
   "metadata": {},
   "source": [
    "# RELEVANT DATA"
   ]
  },
  {
   "cell_type": "code",
   "execution_count": 6,
   "metadata": {},
   "outputs": [
    {
     "data": {
      "text/plain": [
       "0      Industry\n",
       "1      Industry\n",
       "2      Academic\n",
       "3      Industry\n",
       "4      Industry\n",
       "         ...   \n",
       "101         NaN\n",
       "102    Academic\n",
       "103    Academic\n",
       "104         NaN\n",
       "105    Academic\n",
       "Name: Q1, Length: 106, dtype: object"
      ]
     },
     "execution_count": 6,
     "metadata": {},
     "output_type": "execute_result"
    }
   ],
   "source": [
    "df['Q1']"
   ]
  },
  {
   "cell_type": "code",
   "execution_count": 7,
   "metadata": {},
   "outputs": [
    {
     "data": {
      "text/plain": [
       "0      We should develop more powerful and more gener...\n",
       "1                      Soon, but not as fast as possible\n",
       "2                              Eventually, but not soon.\n",
       "3                              We should never build AGI\n",
       "4                              Eventually, but not soon.\n",
       "                             ...                        \n",
       "101                                                  NaN\n",
       "102                            Eventually, but not soon.\n",
       "103    We should develop more powerful and more gener...\n",
       "104                                                  NaN\n",
       "105                            Eventually, but not soon.\n",
       "Name: Q5, Length: 106, dtype: object"
      ]
     },
     "execution_count": 7,
     "metadata": {},
     "output_type": "execute_result"
    }
   ],
   "source": [
    "df['Q5']"
   ]
  },
  {
   "cell_type": "code",
   "execution_count": 8,
   "metadata": {},
   "outputs": [
    {
     "data": {
      "text/plain": [
       "Academic                57\n",
       "Industry                14\n",
       "AI Safety Researcher     8\n",
       "Other                    7\n",
       "Name: Q1, dtype: int64"
      ]
     },
     "execution_count": 8,
     "metadata": {},
     "output_type": "execute_result"
    }
   ],
   "source": [
    "df['Q1'].value_counts()"
   ]
  },
  {
   "cell_type": "code",
   "execution_count": 9,
   "metadata": {},
   "outputs": [
    {
     "data": {
      "text/plain": [
       "Eventually, but not soon.                                                       37\n",
       "Soon, but not as fast as possible                                               24\n",
       "We should develop more powerful and more general systems as fast as possible    20\n",
       "We should never build AGI                                                        6\n",
       "Name: Q5, dtype: int64"
      ]
     },
     "execution_count": 9,
     "metadata": {},
     "output_type": "execute_result"
    }
   ],
   "source": [
    "df['Q5'].value_counts()"
   ]
  },
  {
   "cell_type": "code",
   "execution_count": 10,
   "metadata": {},
   "outputs": [],
   "source": [
    "timelines_positions = {\n",
    "    \"Eventually, but not soon.\": \"Eventually\",\n",
    "    \"Soon, but not as fast as possible\": \"Soon\",\n",
    "    \"We should develop more powerful and more general systems as fast as possible\": \"ASAP\",\n",
    "    \"We should never build AGI\": \"Never\"\n",
    "}\n",
    "\n",
    "# replace the values in the column\n",
    "df['Q5'] = df['Q5'].replace(timelines_positions)"
   ]
  },
  {
   "cell_type": "code",
   "execution_count": 11,
   "metadata": {},
   "outputs": [],
   "source": [
    "# take JUST q5 and q1\n",
    "df = df[['Q1', 'Q5']]"
   ]
  },
  {
   "cell_type": "code",
   "execution_count": 12,
   "metadata": {},
   "outputs": [
    {
     "data": {
      "text/html": [
       "<div>\n",
       "<style scoped>\n",
       "    .dataframe tbody tr th:only-of-type {\n",
       "        vertical-align: middle;\n",
       "    }\n",
       "\n",
       "    .dataframe tbody tr th {\n",
       "        vertical-align: top;\n",
       "    }\n",
       "\n",
       "    .dataframe thead th {\n",
       "        text-align: right;\n",
       "    }\n",
       "</style>\n",
       "<table border=\"1\" class=\"dataframe\">\n",
       "  <thead>\n",
       "    <tr style=\"text-align: right;\">\n",
       "      <th></th>\n",
       "      <th>Q1</th>\n",
       "      <th>Q5</th>\n",
       "    </tr>\n",
       "  </thead>\n",
       "  <tbody>\n",
       "    <tr>\n",
       "      <th>0</th>\n",
       "      <td>Industry</td>\n",
       "      <td>ASAP</td>\n",
       "    </tr>\n",
       "    <tr>\n",
       "      <th>1</th>\n",
       "      <td>Industry</td>\n",
       "      <td>Soon</td>\n",
       "    </tr>\n",
       "    <tr>\n",
       "      <th>2</th>\n",
       "      <td>Academic</td>\n",
       "      <td>Eventually</td>\n",
       "    </tr>\n",
       "    <tr>\n",
       "      <th>3</th>\n",
       "      <td>Industry</td>\n",
       "      <td>Never</td>\n",
       "    </tr>\n",
       "    <tr>\n",
       "      <th>4</th>\n",
       "      <td>Industry</td>\n",
       "      <td>Eventually</td>\n",
       "    </tr>\n",
       "    <tr>\n",
       "      <th>...</th>\n",
       "      <td>...</td>\n",
       "      <td>...</td>\n",
       "    </tr>\n",
       "    <tr>\n",
       "      <th>101</th>\n",
       "      <td>NaN</td>\n",
       "      <td>NaN</td>\n",
       "    </tr>\n",
       "    <tr>\n",
       "      <th>102</th>\n",
       "      <td>Academic</td>\n",
       "      <td>Eventually</td>\n",
       "    </tr>\n",
       "    <tr>\n",
       "      <th>103</th>\n",
       "      <td>Academic</td>\n",
       "      <td>ASAP</td>\n",
       "    </tr>\n",
       "    <tr>\n",
       "      <th>104</th>\n",
       "      <td>NaN</td>\n",
       "      <td>NaN</td>\n",
       "    </tr>\n",
       "    <tr>\n",
       "      <th>105</th>\n",
       "      <td>Academic</td>\n",
       "      <td>Eventually</td>\n",
       "    </tr>\n",
       "  </tbody>\n",
       "</table>\n",
       "<p>106 rows × 2 columns</p>\n",
       "</div>"
      ],
      "text/plain": [
       "           Q1          Q5\n",
       "0    Industry        ASAP\n",
       "1    Industry        Soon\n",
       "2    Academic  Eventually\n",
       "3    Industry       Never\n",
       "4    Industry  Eventually\n",
       "..        ...         ...\n",
       "101       NaN         NaN\n",
       "102  Academic  Eventually\n",
       "103  Academic        ASAP\n",
       "104       NaN         NaN\n",
       "105  Academic  Eventually\n",
       "\n",
       "[106 rows x 2 columns]"
      ]
     },
     "execution_count": 12,
     "metadata": {},
     "output_type": "execute_result"
    }
   ],
   "source": [
    "df"
   ]
  },
  {
   "cell_type": "code",
   "execution_count": 13,
   "metadata": {},
   "outputs": [],
   "source": [
    "q5 = df['Q5'].dropna()\n",
    "q1 = df['Q1'].dropna()"
   ]
  },
  {
   "cell_type": "markdown",
   "metadata": {},
   "source": [
    "# WHEN SHOULD AGI be DEVELOPED PLOT"
   ]
  },
  {
   "cell_type": "code",
   "execution_count": 14,
   "metadata": {},
   "outputs": [
    {
     "data": {
      "text/plain": [
       "0      Industry\n",
       "1      Industry\n",
       "2      Academic\n",
       "3      Industry\n",
       "4      Industry\n",
       "         ...   \n",
       "99        Other\n",
       "100    Academic\n",
       "102    Academic\n",
       "103    Academic\n",
       "105    Academic\n",
       "Name: Q1, Length: 86, dtype: object"
      ]
     },
     "execution_count": 14,
     "metadata": {},
     "output_type": "execute_result"
    }
   ],
   "source": [
    "q1"
   ]
  },
  {
   "cell_type": "code",
   "execution_count": 15,
   "metadata": {},
   "outputs": [
    {
     "data": {
      "text/plain": [
       "0            ASAP\n",
       "1            Soon\n",
       "2      Eventually\n",
       "3           Never\n",
       "4      Eventually\n",
       "          ...    \n",
       "99           Soon\n",
       "100         Never\n",
       "102    Eventually\n",
       "103          ASAP\n",
       "105    Eventually\n",
       "Name: Q5, Length: 87, dtype: object"
      ]
     },
     "execution_count": 15,
     "metadata": {},
     "output_type": "execute_result"
    }
   ],
   "source": [
    "q5"
   ]
  },
  {
   "cell_type": "code",
   "execution_count": 16,
   "metadata": {},
   "outputs": [],
   "source": [
    "import matplotlib.pyplot as plt\n",
    "import pandas as pd\n",
    "import numpy as np\n",
    "\n",
    "def timelines_graph(df, fig_size=(7,3), font_size_large=16, font_size_med=14, font_size_small=12,\n",
    "                   title=\"Desired AI Dev Timelines by Group\", \n",
    "                   save_fig=False, show_fig=True, save_location=\"figs/timelines.pdf\"):\n",
    "    \"\"\"\n",
    "    horizontal stacked bar chart showing AGI timeline preferences by group\n",
    "    \n",
    "    Args:\n",
    "        df: DataFrame with columns Q1 (groups) and Q5 (timeline preferences)\n",
    "        font_size_large: Font size for title\n",
    "        font_size_med: Font size for axis labels and group names\n",
    "        font_size_small: Font size for percentage labels and legend\n",
    "        title: Plot title\n",
    "        save_fig: Whether to save the figure\n",
    "        show_fig: Whether to display the figure\n",
    "        save_location: Where to save the figure if save_fig is True\n",
    "    \"\"\"\n",
    "    fig, ax = plt.subplots(figsize=fig_size)\n",
    "    \n",
    "    timeline_order = ['ASAP', 'Soon', 'Eventually', 'Never']\n",
    "    groups = ['Overall'] + sorted([g for g in df['Q1'].unique() if pd.notna(g)])\n",
    "    \n",
    "    results = []\n",
    "    \n",
    "    total_responses = df['Q5'].notna().sum()\n",
    "    overall_counts = df['Q5'].value_counts(normalize=True) * 100\n",
    "    results.append([overall_counts.get(t, 0) for t in timeline_order])\n",
    "    \n",
    "    for group in groups[1:]:  # Skip 'Overall' as we already did it\n",
    "        group_data = df[df['Q1'] == group]\n",
    "        group_total = len(group_data)\n",
    "        group_counts = group_data['Q5'].value_counts(normalize=True) * 100\n",
    "        results.append([group_counts.get(t, 0) for t in timeline_order])\n",
    "    \n",
    "    results = np.array(results)\n",
    "    \n",
    "    lefts = np.zeros(len(groups))\n",
    "    \n",
    "    colors = ['#DEEBF7', '#9ECAE1', '#4292C6', '#084594']\n",
    "    \n",
    "    bars = []\n",
    "    for i, (preference, color) in enumerate(zip(timeline_order, colors)):\n",
    "        bars.append(ax.barh(groups, results[:, i], left=lefts, \n",
    "                          color=color, height=0.6))\n",
    "        lefts += results[:, i]\n",
    "    \n",
    "    for i in range(len(groups)):\n",
    "        x_pos = 0\n",
    "        for j in range(len(timeline_order)):\n",
    "            if results[i, j] >= 5:  # Only show label if segment is at least 5%\n",
    "                width = results[i, j]\n",
    "                ax.text(x_pos + width/2, i, \n",
    "                       f'{results[i, j]:.0f}%',\n",
    "                       ha='center', va='center',\n",
    "                       fontsize=font_size_small)\n",
    "            x_pos += results[i, j]\n",
    "    \n",
    "    group_sizes = [total_responses]\n",
    "    for group in groups[1:]:\n",
    "        group_sizes.append(len(df[df['Q1'] == group]))\n",
    "    \n",
    "    # labels = [f'{group}' for group, size in zip(groups, group_sizes)]\n",
    "    # Update labels with group sizes\n",
    "    labels = [f'$\\\\mathbf{{{group}}}$' if group == 'Overall' else f'{group}' \n",
    "         for group, size in zip(groups, group_sizes)]\n",
    "    ax.set_yticklabels(labels, fontsize=font_size_med)\n",
    "    \n",
    "    ax.set_title(title, fontsize=font_size_large, pad=20)\n",
    "    ax.set_xlim(0, 100)\n",
    "    \n",
    "    ax.legend(bars, timeline_order,\n",
    "             loc='upper center', bbox_to_anchor=(0.5, -0.15),\n",
    "             ncol=4, fontsize=font_size_small)\n",
    "    \n",
    "    ax.spines['top'].set_visible(False)\n",
    "    ax.spines['right'].set_visible(False)\n",
    "    \n",
    "    plt.tight_layout()\n",
    "    \n",
    "    if save_fig:\n",
    "        plt.savefig(save_location, bbox_inches='tight', dpi=300)\n",
    "    \n",
    "    if show_fig:\n",
    "        plt.show()\n",
    "    \n",
    "    return fig, ax\n"
   ]
  },
  {
   "cell_type": "code",
   "execution_count": 17,
   "metadata": {},
   "outputs": [],
   "source": [
    "# drop all rows where q5 is nan or \"Other\"\n",
    "df = df.dropna(subset=['Q1'])\n",
    "# df = df[df['Q1'] != 'Other']"
   ]
  },
  {
   "cell_type": "code",
   "execution_count": 18,
   "metadata": {},
   "outputs": [
    {
     "data": {
      "text/plain": [
       "Academic                57\n",
       "Industry                14\n",
       "AI Safety Researcher     8\n",
       "Other                    7\n",
       "Name: Q1, dtype: int64"
      ]
     },
     "execution_count": 18,
     "metadata": {},
     "output_type": "execute_result"
    }
   ],
   "source": [
    "df['Q1'].value_counts()"
   ]
  },
  {
   "cell_type": "code",
   "execution_count": 19,
   "metadata": {},
   "outputs": [
    {
     "name": "stderr",
     "output_type": "stream",
     "text": [
      "<ipython-input-16-978bf8f89f2f>:69: UserWarning: FixedFormatter should only be used together with FixedLocator\n",
      "  ax.set_yticklabels(labels, fontsize=font_size_med)\n"
     ]
    },
    {
     "data": {
      "image/png": "[encoded data removed]",
      "text/plain": [
       "<Figure size 720x432 with 1 Axes>"
      ]
     },
     "metadata": {
      "needs_background": "light"
     },
     "output_type": "display_data"
    }
   ],
   "source": [
    "fig, ax = timelines_graph(df, fig_size=(10, 6), font_size_large=20, font_size_med=16, font_size_small=16, title=\"Desired AGI Timelines by Group\", save_fig=True, show_fig=True, save_location=\"figs/timelines.pdf\")"
   ]
  },
  {
   "cell_type": "code",
   "execution_count": null,
   "metadata": {},
   "outputs": [],
   "source": []
  },
  {
   "cell_type": "code",
   "execution_count": 20,
   "metadata": {},
   "outputs": [
    {
     "data": {
      "text/html": [
       "<div>\n",
       "<style scoped>\n",
       "    .dataframe tbody tr th:only-of-type {\n",
       "        vertical-align: middle;\n",
       "    }\n",
       "\n",
       "    .dataframe tbody tr th {\n",
       "        vertical-align: top;\n",
       "    }\n",
       "\n",
       "    .dataframe thead th {\n",
       "        text-align: right;\n",
       "    }\n",
       "</style>\n",
       "<table border=\"1\" class=\"dataframe\">\n",
       "  <thead>\n",
       "    <tr style=\"text-align: right;\">\n",
       "      <th></th>\n",
       "      <th>Q1</th>\n",
       "      <th>Q5</th>\n",
       "    </tr>\n",
       "  </thead>\n",
       "  <tbody>\n",
       "    <tr>\n",
       "      <th>0</th>\n",
       "      <td>Industry</td>\n",
       "      <td>ASAP</td>\n",
       "    </tr>\n",
       "    <tr>\n",
       "      <th>1</th>\n",
       "      <td>Industry</td>\n",
       "      <td>Soon</td>\n",
       "    </tr>\n",
       "    <tr>\n",
       "      <th>3</th>\n",
       "      <td>Industry</td>\n",
       "      <td>Never</td>\n",
       "    </tr>\n",
       "    <tr>\n",
       "      <th>4</th>\n",
       "      <td>Industry</td>\n",
       "      <td>Eventually</td>\n",
       "    </tr>\n",
       "    <tr>\n",
       "      <th>5</th>\n",
       "      <td>Industry</td>\n",
       "      <td>Eventually</td>\n",
       "    </tr>\n",
       "    <tr>\n",
       "      <th>9</th>\n",
       "      <td>Industry</td>\n",
       "      <td>ASAP</td>\n",
       "    </tr>\n",
       "    <tr>\n",
       "      <th>11</th>\n",
       "      <td>Industry</td>\n",
       "      <td>ASAP</td>\n",
       "    </tr>\n",
       "    <tr>\n",
       "      <th>12</th>\n",
       "      <td>Industry</td>\n",
       "      <td>Soon</td>\n",
       "    </tr>\n",
       "    <tr>\n",
       "      <th>13</th>\n",
       "      <td>Industry</td>\n",
       "      <td>ASAP</td>\n",
       "    </tr>\n",
       "    <tr>\n",
       "      <th>31</th>\n",
       "      <td>Industry</td>\n",
       "      <td>Soon</td>\n",
       "    </tr>\n",
       "    <tr>\n",
       "      <th>71</th>\n",
       "      <td>Industry</td>\n",
       "      <td>Soon</td>\n",
       "    </tr>\n",
       "    <tr>\n",
       "      <th>75</th>\n",
       "      <td>Industry</td>\n",
       "      <td>ASAP</td>\n",
       "    </tr>\n",
       "    <tr>\n",
       "      <th>83</th>\n",
       "      <td>Industry</td>\n",
       "      <td>Eventually</td>\n",
       "    </tr>\n",
       "    <tr>\n",
       "      <th>91</th>\n",
       "      <td>Industry</td>\n",
       "      <td>Eventually</td>\n",
       "    </tr>\n",
       "  </tbody>\n",
       "</table>\n",
       "</div>"
      ],
      "text/plain": [
       "          Q1          Q5\n",
       "0   Industry        ASAP\n",
       "1   Industry        Soon\n",
       "3   Industry       Never\n",
       "4   Industry  Eventually\n",
       "5   Industry  Eventually\n",
       "9   Industry        ASAP\n",
       "11  Industry        ASAP\n",
       "12  Industry        Soon\n",
       "13  Industry        ASAP\n",
       "31  Industry        Soon\n",
       "71  Industry        Soon\n",
       "75  Industry        ASAP\n",
       "83  Industry  Eventually\n",
       "91  Industry  Eventually"
      ]
     },
     "execution_count": 20,
     "metadata": {},
     "output_type": "execute_result"
    }
   ],
   "source": [
    "# get the answers to q5 from people who answered q1 as \"industry\"\n",
    "df[q1 == 'Industry']"
   ]
  },
  {
   "cell_type": "code",
   "execution_count": 21,
   "metadata": {},
   "outputs": [
    {
     "ename": "NameError",
     "evalue": "name 'q' is not defined",
     "output_type": "error",
     "traceback": [
      "\u001b[1;31m---------------------------------------------------------------------------\u001b[0m",
      "\u001b[1;31mNameError\u001b[0m                                 Traceback (most recent call last)",
      "\u001b[1;32m<ipython-input-21-e222fcdf3350>\u001b[0m in \u001b[0;36m<module>\u001b[1;34m\u001b[0m\n\u001b[1;32m----> 1\u001b[1;33m \u001b[0mq\u001b[0m\u001b[1;33m\u001b[0m\u001b[1;33m\u001b[0m\u001b[0m\n\u001b[0m",
      "\u001b[1;31mNameError\u001b[0m: name 'q' is not defined"
     ]
    }
   ],
   "source": [
    "q"
   ]
  }
 ],
 "metadata": {
  "kernelspec": {
   "display_name": "base",
   "language": "python",
   "name": "python3"
  },
  "language_info": {
   "codemirror_mode": {
    "name": "ipython",
    "version": 3
   },
   "file_extension": ".py",
   "mimetype": "text/x-python",
   "name": "python",
   "nbconvert_exporter": "python",
   "pygments_lexer": "ipython3",
   "version": "3.8.8"
  }
 },
 "nbformat": 4,
 "nbformat_minor": 2
}
