{
 "cells": [
  {
   "cell_type": "code",
   "execution_count": 1,
   "metadata": {},
   "outputs": [
    {
     "name": "stderr",
     "output_type": "stream",
     "text": [
      "c:\\Users\\sevi\\anaconda3\\lib\\site-packages\\scipy\\__init__.py:138: UserWarning: A NumPy version >=1.16.5 and <1.23.0 is required for this version of SciPy (detected version 1.24.4)\n",
      "  warnings.warn(f\"A NumPy version >={np_minversion} and <{np_maxversion} is required for this version of \"\n"
     ]
    }
   ],
   "source": [
    "import pandas as pd\n",
    "\n",
    "import numpy as np\n",
    "import seaborn as sns\n",
    "import matplotlib.pyplot as plt\n",
    "from utils import *\n",
    "\n",
    "plt.style.use('../style.mplstyle')\n",
    "df = pd.read_csv(\"../latest.csv\")"
   ]
  },
  {
   "cell_type": "code",
   "execution_count": 2,
   "metadata": {},
   "outputs": [],
   "source": [
    "df = fix_data(df, drop_zeros=False)"
   ]
  },
  {
   "cell_type": "code",
   "execution_count": 3,
   "metadata": {},
   "outputs": [
    {
     "name": "stdout",
     "output_type": "stream",
     "text": [
      "length of df:  106\n",
      "\n",
      "\n"
     ]
    },
    {
     "data": {
      "text/html": [
       "<div>\n",
       "<style scoped>\n",
       "    .dataframe tbody tr th:only-of-type {\n",
       "        vertical-align: middle;\n",
       "    }\n",
       "\n",
       "    .dataframe tbody tr th {\n",
       "        vertical-align: top;\n",
       "    }\n",
       "\n",
       "    .dataframe thead th {\n",
       "        text-align: right;\n",
       "    }\n",
       "</style>\n",
       "<table border=\"1\" class=\"dataframe\">\n",
       "  <thead>\n",
       "    <tr style=\"text-align: right;\">\n",
       "      <th></th>\n",
       "      <th>StartDate</th>\n",
       "      <th>reading</th>\n",
       "      <th>Duration</th>\n",
       "      <th>Progress</th>\n",
       "      <th>Finished</th>\n",
       "      <th>Q42</th>\n",
       "      <th>Q43</th>\n",
       "      <th>Q1</th>\n",
       "      <th>Q1_7_TEXT</th>\n",
       "      <th>Q2</th>\n",
       "      <th>...</th>\n",
       "      <th>Q16_3</th>\n",
       "      <th>Q16_4</th>\n",
       "      <th>Q16_5</th>\n",
       "      <th>Q16_6</th>\n",
       "      <th>Q16_7</th>\n",
       "      <th>Q16_8</th>\n",
       "      <th>Q16_9</th>\n",
       "      <th>Q17</th>\n",
       "      <th>Q18</th>\n",
       "      <th>Q46</th>\n",
       "    </tr>\n",
       "  </thead>\n",
       "  <tbody>\n",
       "    <tr>\n",
       "      <th>0</th>\n",
       "      <td>2024-08-08 23:30:29</td>\n",
       "      <td>7</td>\n",
       "      <td>118</td>\n",
       "      <td>100</td>\n",
       "      <td>True</td>\n",
       "      <td>Agree</td>\n",
       "      <td>LinkedIn DM</td>\n",
       "      <td>Industry</td>\n",
       "      <td>NaN</td>\n",
       "      <td>2.0</td>\n",
       "      <td>...</td>\n",
       "      <td>Somewhat agree</td>\n",
       "      <td>Somewhat agree</td>\n",
       "      <td>Somewhat agree</td>\n",
       "      <td>Somewhat agree</td>\n",
       "      <td>Somewhat agree</td>\n",
       "      <td>Somewhat agree</td>\n",
       "      <td>Somewhat agree</td>\n",
       "      <td>NaN</td>\n",
       "      <td>NaN</td>\n",
       "      <td>NaN</td>\n",
       "    </tr>\n",
       "  </tbody>\n",
       "</table>\n",
       "<p>1 rows × 41 columns</p>\n",
       "</div>"
      ],
      "text/plain": [
       "             StartDate  reading  Duration  Progress  Finished    Q42  \\\n",
       "0  2024-08-08 23:30:29        7       118       100      True  Agree   \n",
       "\n",
       "           Q43        Q1  Q1_7_TEXT   Q2  ...           Q16_3           Q16_4  \\\n",
       "0  LinkedIn DM  Industry        NaN  2.0  ...  Somewhat agree  Somewhat agree   \n",
       "\n",
       "            Q16_5           Q16_6           Q16_7           Q16_8  \\\n",
       "0  Somewhat agree  Somewhat agree  Somewhat agree  Somewhat agree   \n",
       "\n",
       "            Q16_9  Q17  Q18  Q46  \n",
       "0  Somewhat agree  NaN  NaN  NaN  \n",
       "\n",
       "[1 rows x 41 columns]"
      ]
     },
     "execution_count": 3,
     "metadata": {},
     "output_type": "execute_result"
    }
   ],
   "source": [
    "print(\"length of df: \", len(df))\n",
    "print('\\n')\n",
    "df.head(1)"
   ]
  },
  {
   "cell_type": "markdown",
   "metadata": {},
   "source": [
    "# Pie chart (TYPE OF EXPERT)"
   ]
  },
  {
   "cell_type": "code",
   "execution_count": 4,
   "metadata": {},
   "outputs": [
    {
     "data": {
      "text/plain": [
       "0      Industry\n",
       "1      Industry\n",
       "2      Academic\n",
       "3      Industry\n",
       "4      Industry\n",
       "         ...   \n",
       "101         NaN\n",
       "102    Academic\n",
       "103    Academic\n",
       "104         NaN\n",
       "105    Academic\n",
       "Name: Q1, Length: 106, dtype: object"
      ]
     },
     "execution_count": 4,
     "metadata": {},
     "output_type": "execute_result"
    }
   ],
   "source": [
    "df['Q1']"
   ]
  },
  {
   "cell_type": "code",
   "execution_count": 8,
   "metadata": {},
   "outputs": [],
   "source": []
  },
  {
   "cell_type": "code",
   "execution_count": 5,
   "metadata": {},
   "outputs": [
    {
     "data": {
      "image/png": "[encoded data removed]",
      "text/plain": [
       "<Figure size 432x288 with 1 Axes>"
      ]
     },
     "metadata": {},
     "output_type": "display_data"
    }
   ],
   "source": [
    "fig1, ax1 = plt.subplots()\n",
    "\n",
    "# MAKE THE AUTOPCT SHOW the NUMBER OF PEOPLE who responded that way, NOT THE PERCENTAGE\n",
    "ax1.pie(df['Q1'].value_counts(), labels=df['Q1'].value_counts().index)\n",
    "# \n",
    "\n",
    "# increase the font size\n",
    "\n",
    "fig1.savefig('figs/pie.pdf')\n",
    "\n",
    "plt.show()"
   ]
  },
  {
   "cell_type": "code",
   "execution_count": null,
   "metadata": {},
   "outputs": [],
   "source": []
  },
  {
   "cell_type": "code",
   "execution_count": 17,
   "metadata": {},
   "outputs": [
    {
     "data": {
      "image/png": "[encoded data removed]",
      "text/plain": [
       "<Figure size 504x360 with 1 Axes>"
      ]
     },
     "metadata": {},
     "output_type": "display_data"
    }
   ],
   "source": [
    "import matplotlib.pyplot as plt\n",
    "\n",
    "def make_autopct(values):\n",
    "    def my_autopct(pct):\n",
    "        total = sum(values)\n",
    "        val = int(round(pct*total/100.0))\n",
    "        return f'{pct:.1f}%'\n",
    "    return my_autopct\n",
    "\n",
    "fig1, ax1 = plt.subplots(figsize=(7, 5))\n",
    "\n",
    "values = df['Q1'].value_counts()\n",
    "# ax1.pie(values, labels=values.index, autopct=make_autopct(values))\n",
    "wedges, texts, autotexts = ax1.pie(values, labels=values.index, autopct=make_autopct(values),\n",
    "                                   textprops=dict(color=\"black\"))\n",
    "plt.setp(texts, size=15)\n",
    "plt.setp(autotexts, size=14)\n",
    "\n",
    "plt.title('Distribution of Responses')\n",
    "fig1.savefig('figs/pie_with_percentages.pdf')\n",
    "plt.show()"
   ]
  },
  {
   "cell_type": "code",
   "execution_count": null,
   "metadata": {},
   "outputs": [],
   "source": []
  }
 ],
 "metadata": {
  "kernelspec": {
   "display_name": "base",
   "language": "python",
   "name": "python3"
  },
  "language_info": {
   "codemirror_mode": {
    "name": "ipython",
    "version": 3
   },
   "file_extension": ".py",
   "mimetype": "text/x-python",
   "name": "python",
   "nbconvert_exporter": "python",
   "pygments_lexer": "ipython3",
   "version": "3.8.8"
  }
 },
 "nbformat": 4,
 "nbformat_minor": 2
}
