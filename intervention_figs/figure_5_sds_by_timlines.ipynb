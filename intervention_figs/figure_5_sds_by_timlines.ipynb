{
 "cells": [
  {
   "cell_type": "markdown",
   "metadata": {},
   "source": [
    "# TABLE OF AGREEMENT"
   ]
  },
  {
   "cell_type": "code",
   "execution_count": 1,
   "metadata": {},
   "outputs": [
    {
     "name": "stderr",
     "output_type": "stream",
     "text": [
      "c:\\Users\\sevi\\anaconda3\\lib\\site-packages\\scipy\\__init__.py:138: UserWarning: A NumPy version >=1.16.5 and <1.23.0 is required for this version of SciPy (detected version 1.24.4)\n",
      "  warnings.warn(f\"A NumPy version >={np_minversion} and <{np_maxversion} is required for this version of \"\n"
     ]
    }
   ],
   "source": [
    "import pandas as pd\n",
    "\n",
    "import numpy as np\n",
    "import seaborn as sns\n",
    "\n",
    "import matplotlib.pyplot as plt\n",
    "from utils import *\n",
    "\n",
    "plt.style.use('../style.mplstyle')\n",
    "df = pd.read_csv(\"../latest.csv\")"
   ]
  },
  {
   "cell_type": "code",
   "execution_count": 2,
   "metadata": {},
   "outputs": [],
   "source": []
  },
  {
   "cell_type": "code",
   "execution_count": 2,
   "metadata": {},
   "outputs": [],
   "source": [
    "df = fix_data(df, drop_zeros=False)"
   ]
  },
  {
   "cell_type": "code",
   "execution_count": 3,
   "metadata": {},
   "outputs": [],
   "source": [
    "readings = df['reading'].values"
   ]
  },
  {
   "cell_type": "code",
   "execution_count": 4,
   "metadata": {},
   "outputs": [
    {
     "data": {
      "text/plain": [
       "24"
      ]
     },
     "execution_count": 4,
     "metadata": {},
     "output_type": "execute_result"
    }
   ],
   "source": [
    "# count how many 0's in readings\n",
    "zero_count = np.sum(readings == 0)\n",
    "zero_count"
   ]
  },
  {
   "cell_type": "code",
   "execution_count": 5,
   "metadata": {},
   "outputs": [
    {
     "name": "stdout",
     "output_type": "stream",
     "text": [
      "length of df:  106\n",
      "\n",
      "\n"
     ]
    },
    {
     "data": {
      "text/html": [
       "<div>\n",
       "<style scoped>\n",
       "    .dataframe tbody tr th:only-of-type {\n",
       "        vertical-align: middle;\n",
       "    }\n",
       "\n",
       "    .dataframe tbody tr th {\n",
       "        vertical-align: top;\n",
       "    }\n",
       "\n",
       "    .dataframe thead th {\n",
       "        text-align: right;\n",
       "    }\n",
       "</style>\n",
       "<table border=\"1\" class=\"dataframe\">\n",
       "  <thead>\n",
       "    <tr style=\"text-align: right;\">\n",
       "      <th></th>\n",
       "      <th>StartDate</th>\n",
       "      <th>reading</th>\n",
       "      <th>Duration</th>\n",
       "      <th>Progress</th>\n",
       "      <th>Finished</th>\n",
       "      <th>Q42</th>\n",
       "      <th>Q43</th>\n",
       "      <th>Q1</th>\n",
       "      <th>Q1_7_TEXT</th>\n",
       "      <th>Q2</th>\n",
       "      <th>...</th>\n",
       "      <th>Q16_3</th>\n",
       "      <th>Q16_4</th>\n",
       "      <th>Q16_5</th>\n",
       "      <th>Q16_6</th>\n",
       "      <th>Q16_7</th>\n",
       "      <th>Q16_8</th>\n",
       "      <th>Q16_9</th>\n",
       "      <th>Q17</th>\n",
       "      <th>Q18</th>\n",
       "      <th>Q46</th>\n",
       "    </tr>\n",
       "  </thead>\n",
       "  <tbody>\n",
       "    <tr>\n",
       "      <th>0</th>\n",
       "      <td>2024-08-08 23:30:29</td>\n",
       "      <td>7</td>\n",
       "      <td>118</td>\n",
       "      <td>100</td>\n",
       "      <td>True</td>\n",
       "      <td>Agree</td>\n",
       "      <td>LinkedIn DM</td>\n",
       "      <td>Industry</td>\n",
       "      <td>NaN</td>\n",
       "      <td>2.0</td>\n",
       "      <td>...</td>\n",
       "      <td>Somewhat agree</td>\n",
       "      <td>Somewhat agree</td>\n",
       "      <td>Somewhat agree</td>\n",
       "      <td>Somewhat agree</td>\n",
       "      <td>Somewhat agree</td>\n",
       "      <td>Somewhat agree</td>\n",
       "      <td>Somewhat agree</td>\n",
       "      <td>NaN</td>\n",
       "      <td>NaN</td>\n",
       "      <td>NaN</td>\n",
       "    </tr>\n",
       "  </tbody>\n",
       "</table>\n",
       "<p>1 rows × 41 columns</p>\n",
       "</div>"
      ],
      "text/plain": [
       "             StartDate  reading  Duration  Progress  Finished    Q42  \\\n",
       "0  2024-08-08 23:30:29        7       118       100      True  Agree   \n",
       "\n",
       "           Q43        Q1  Q1_7_TEXT   Q2  ...           Q16_3           Q16_4  \\\n",
       "0  LinkedIn DM  Industry        NaN  2.0  ...  Somewhat agree  Somewhat agree   \n",
       "\n",
       "            Q16_5           Q16_6           Q16_7           Q16_8  \\\n",
       "0  Somewhat agree  Somewhat agree  Somewhat agree  Somewhat agree   \n",
       "\n",
       "            Q16_9  Q17  Q18  Q46  \n",
       "0  Somewhat agree  NaN  NaN  NaN  \n",
       "\n",
       "[1 rows x 41 columns]"
      ]
     },
     "execution_count": 5,
     "metadata": {},
     "output_type": "execute_result"
    }
   ],
   "source": [
    "print(\"length of df: \", len(df))\n",
    "print('\\n')\n",
    "df.head(1)"
   ]
  },
  {
   "cell_type": "code",
   "execution_count": 6,
   "metadata": {},
   "outputs": [],
   "source": [
    "\n",
    "\n",
    "# Assuming df is your DataFrame\n",
    "# Create lists of pre- and post-reading question columns\n",
    "pre_questions = [f'Q6_{i}' for i in range(1, 10)]\n",
    "post_questions = [f'Q16_{i}' for i in range(1, 10)]\n",
    "\n"
   ]
  },
  {
   "cell_type": "code",
   "execution_count": 7,
   "metadata": {},
   "outputs": [],
   "source": [
    "# change the likert scale to numerical\n",
    "swaps = {\n",
    "    \"strongly disagree\": 1,\n",
    "    \"Somewhat disagree\": 2,\n",
    "    \"Neither agree nor disagree\": 3,\n",
    "    \"Somewhat agree\": 4,\n",
    "    \"Strongly agree\": 5,\n",
    "}\n",
    "\n",
    "df[pre_questions] = df[pre_questions].replace(swaps)\n",
    "df[post_questions] = df[post_questions].replace(swaps)"
   ]
  },
  {
   "cell_type": "code",
   "execution_count": 8,
   "metadata": {},
   "outputs": [],
   "source": [
    "\n",
    "# Calculate mean agreement scores for pre- and post-reading\n",
    "pre_means = df[pre_questions].mean()\n",
    "post_means = df[post_questions].mean()"
   ]
  },
  {
   "cell_type": "code",
   "execution_count": 9,
   "metadata": {},
   "outputs": [],
   "source": [
    "timelines_positions = {\n",
    "    \"Eventually, but not soon.\": \"Eventually\",\n",
    "    \"Soon, but not as fast as possible\": \"Soon\",\n",
    "    \"We should develop more powerful and more general systems as fast as possible\": \"ASAP\",\n",
    "    \"We should never build AGI\": \"Never\"\n",
    "}\n",
    "\n",
    "# replace the values in the column\n",
    "df['Q5'] = df['Q5'].replace(timelines_positions)"
   ]
  },
  {
   "cell_type": "code",
   "execution_count": 10,
   "metadata": {},
   "outputs": [
    {
     "data": {
      "text/plain": [
       "Eventually    37\n",
       "Soon          24\n",
       "ASAP          20\n",
       "Never          6\n",
       "Name: Q5, dtype: int64"
      ]
     },
     "execution_count": 10,
     "metadata": {},
     "output_type": "execute_result"
    }
   ],
   "source": [
    "df['Q5'].value_counts()"
   ]
  },
  {
   "cell_type": "code",
   "execution_count": 11,
   "metadata": {},
   "outputs": [],
   "source": [
    "# drop everything thats NaN in Q5\n",
    "df = df.dropna(subset=['Q5'])\n"
   ]
  },
  {
   "cell_type": "code",
   "execution_count": 12,
   "metadata": {},
   "outputs": [
    {
     "data": {
      "text/plain": [
       "0            ASAP\n",
       "1            Soon\n",
       "2      Eventually\n",
       "3           Never\n",
       "4      Eventually\n",
       "          ...    \n",
       "99           Soon\n",
       "100         Never\n",
       "102    Eventually\n",
       "103          ASAP\n",
       "105    Eventually\n",
       "Name: Q5, Length: 87, dtype: object"
      ]
     },
     "execution_count": 12,
     "metadata": {},
     "output_type": "execute_result"
    }
   ],
   "source": [
    "df['Q5']"
   ]
  },
  {
   "cell_type": "code",
   "execution_count": 13,
   "metadata": {},
   "outputs": [],
   "source": [
    "pre_group_means = df.groupby('Q5')[pre_questions].mean()\n",
    "post_group_means = df.groupby('Q5')[post_questions].mean()\n"
   ]
  },
  {
   "cell_type": "code",
   "execution_count": 14,
   "metadata": {},
   "outputs": [
    {
     "data": {
      "text/html": [
       "<div>\n",
       "<style scoped>\n",
       "    .dataframe tbody tr th:only-of-type {\n",
       "        vertical-align: middle;\n",
       "    }\n",
       "\n",
       "    .dataframe tbody tr th {\n",
       "        vertical-align: top;\n",
       "    }\n",
       "\n",
       "    .dataframe thead th {\n",
       "        text-align: right;\n",
       "    }\n",
       "</style>\n",
       "<table border=\"1\" class=\"dataframe\">\n",
       "  <thead>\n",
       "    <tr style=\"text-align: right;\">\n",
       "      <th></th>\n",
       "      <th>Q6_1</th>\n",
       "      <th>Q6_2</th>\n",
       "      <th>Q6_3</th>\n",
       "      <th>Q6_4</th>\n",
       "      <th>Q6_5</th>\n",
       "      <th>Q6_6</th>\n",
       "      <th>Q6_7</th>\n",
       "      <th>Q6_8</th>\n",
       "      <th>Q6_9</th>\n",
       "    </tr>\n",
       "    <tr>\n",
       "      <th>Q5</th>\n",
       "      <th></th>\n",
       "      <th></th>\n",
       "      <th></th>\n",
       "      <th></th>\n",
       "      <th></th>\n",
       "      <th></th>\n",
       "      <th></th>\n",
       "      <th></th>\n",
       "      <th></th>\n",
       "    </tr>\n",
       "  </thead>\n",
       "  <tbody>\n",
       "    <tr>\n",
       "      <th>ASAP</th>\n",
       "      <td>3.631579</td>\n",
       "      <td>3.473684</td>\n",
       "      <td>2.421053</td>\n",
       "      <td>3.105263</td>\n",
       "      <td>3.789474</td>\n",
       "      <td>3.315789</td>\n",
       "      <td>2.947368</td>\n",
       "      <td>2.578947</td>\n",
       "      <td>3.789474</td>\n",
       "    </tr>\n",
       "    <tr>\n",
       "      <th>Eventually</th>\n",
       "      <td>2.944444</td>\n",
       "      <td>3.388889</td>\n",
       "      <td>2.694444</td>\n",
       "      <td>3.138889</td>\n",
       "      <td>2.861111</td>\n",
       "      <td>2.628571</td>\n",
       "      <td>3.500000</td>\n",
       "      <td>1.972222</td>\n",
       "      <td>4.055556</td>\n",
       "    </tr>\n",
       "    <tr>\n",
       "      <th>Never</th>\n",
       "      <td>3.500000</td>\n",
       "      <td>3.800000</td>\n",
       "      <td>1.400000</td>\n",
       "      <td>2.600000</td>\n",
       "      <td>2.600000</td>\n",
       "      <td>1.800000</td>\n",
       "      <td>3.800000</td>\n",
       "      <td>1.600000</td>\n",
       "      <td>4.800000</td>\n",
       "    </tr>\n",
       "    <tr>\n",
       "      <th>Soon</th>\n",
       "      <td>2.347826</td>\n",
       "      <td>3.043478</td>\n",
       "      <td>2.652174</td>\n",
       "      <td>3.000000</td>\n",
       "      <td>3.130435</td>\n",
       "      <td>2.695652</td>\n",
       "      <td>3.478261</td>\n",
       "      <td>2.260870</td>\n",
       "      <td>3.608696</td>\n",
       "    </tr>\n",
       "  </tbody>\n",
       "</table>\n",
       "</div>"
      ],
      "text/plain": [
       "                Q6_1      Q6_2      Q6_3      Q6_4      Q6_5      Q6_6  \\\n",
       "Q5                                                                       \n",
       "ASAP        3.631579  3.473684  2.421053  3.105263  3.789474  3.315789   \n",
       "Eventually  2.944444  3.388889  2.694444  3.138889  2.861111  2.628571   \n",
       "Never       3.500000  3.800000  1.400000  2.600000  2.600000  1.800000   \n",
       "Soon        2.347826  3.043478  2.652174  3.000000  3.130435  2.695652   \n",
       "\n",
       "                Q6_7      Q6_8      Q6_9  \n",
       "Q5                                        \n",
       "ASAP        2.947368  2.578947  3.789474  \n",
       "Eventually  3.500000  1.972222  4.055556  \n",
       "Never       3.800000  1.600000  4.800000  \n",
       "Soon        3.478261  2.260870  3.608696  "
      ]
     },
     "execution_count": 14,
     "metadata": {},
     "output_type": "execute_result"
    }
   ],
   "source": [
    "pre_group_means"
   ]
  },
  {
   "cell_type": "markdown",
   "metadata": {},
   "source": [
    "# STANDARD DEVIATION"
   ]
  },
  {
   "cell_type": "code",
   "execution_count": 35,
   "metadata": {},
   "outputs": [],
   "source": [
    "\n",
    "def plot_agreement_levels(questions_to_include, figure_size=(15, 9), pre_means=None, pre_group_means=None, post_group_means=None, title=None, use_full_statements=False, save_pdf=False):\n",
    "    fig, ax = plt.subplots(figsize=figure_size)\n",
    "\n",
    "    # x should be the same as the number of questions in questions_to_include\n",
    "    x = range(1, len(questions_to_include) + 1)\n",
    "\n",
    "    bar_width = 0.6\n",
    "\n",
    "    # Calculate total means and standard deviations\n",
    "    total_means = pre_means[questions_to_include]\n",
    "\n",
    "\n",
    "    # total_stds = df[['Q6_1', 'Q6_2', 'Q6_3', 'Q6_4', 'Q6_5', 'Q6_6', 'Q6_7', 'Q6_8', 'Q6_9']].std()\n",
    "    # calculate total stds for only the questions in questions_to_include\n",
    "    total_stds = df[questions_to_include].std()\n",
    "\n",
    "    # Plot total means with error bars\n",
    "    bars = ax.bar(x, total_means, color='lightblue', alpha=0.7, width=bar_width, yerr=total_stds, capsize=5, zorder=1)\n",
    "\n",
    "    groups = ['Eventually', 'Soon', 'ASAP', 'Never']\n",
    "    colors = sns.color_palette(\"husl\", n_colors=len(groups))\n",
    "\n",
    "    # Calculate offsets for spreading out the points\n",
    "    num_groups = len(groups)\n",
    "    offsets = np.linspace(-bar_width/2 + bar_width/(num_groups*2), \n",
    "                        bar_width/2 - bar_width/(num_groups*2), \n",
    "                        num_groups)\n",
    "\n",
    "    # Plot group means as scatter points with error bars\n",
    "    for i, group in enumerate(groups):\n",
    "        pre_group_means_row = pre_group_means.loc[group, questions_to_include]\n",
    "        \n",
    "        group_stds = df[df['Q1'] == group][questions_to_include].std()\n",
    "        \n",
    "        for j in range(len(questions_to_include)):\n",
    "            x_pos = x[j] + offsets[i]\n",
    "            ax.errorbar(x_pos, pre_group_means_row[j], yerr=group_stds[j], \n",
    "                        fmt='o', color=colors[i], capsize=5, capthick=1, zorder=2)\n",
    "\n",
    "    # Customize the plot\n",
    "    ax.set_ylabel('Agreement Level', fontsize='medium')\n",
    "    ax.set_xlabel('Statements', fontsize='medium')\n",
    "    ax.set_title(title, fontsize='large')\n",
    "    ax.set_xticks(x)\n",
    "    if use_full_statements:\n",
    "        ax.set_xticklabels([statements[i] for i in questions_to_include], rotation=45, ha='right')\n",
    "    else:\n",
    "        # set the tick to S{i} but just the last character of it (eg. S1, S2, S3, ... S9) instead of SQ6_1, SQ6_2, ...\n",
    "        ax.set_xticklabels([f'S{i[-1]}' for i in questions_to_include])\n",
    "\n",
    "    # Create legend with correct colors\n",
    "    legend_elements = [plt.Line2D([0], [0], marker='o', color='w', label=group, \n",
    "                    markerfacecolor=color, markersize=10) \n",
    "                    for group, color in zip(groups, colors)]\n",
    "    ax.legend(handles=legend_elements, title='Groups', fontsize='x-small', title_fontsize='small')\n",
    "\n",
    "    # Set y-axis limits to accommodate error bars\n",
    "    y_min = 0  # Assuming agreement levels start at 0\n",
    "    y_max = 5\n",
    "    # y_max = max((pre_group_means + group_stds).max().max(), (total_means + total_stds).max()) + 0.5\n",
    "    ax.set_ylim(y_min, y_max)\n",
    "    # ax.set_ylim(1, 5)\n",
    "\n",
    "    plt.tight_layout()\n",
    "    if save_pdf:\n",
    "        plt.savefig(f'figs/{title}.pdf')\n",
    "    plt.show()"
   ]
  },
  {
   "cell_type": "code",
   "execution_count": 36,
   "metadata": {},
   "outputs": [
    {
     "data": {
      "text/plain": [
       "['Q6_1', 'Q6_2', 'Q6_3', 'Q6_4', 'Q6_5', 'Q6_6', 'Q6_7', 'Q6_8', 'Q6_9']"
      ]
     },
     "execution_count": 36,
     "metadata": {},
     "output_type": "execute_result"
    }
   ],
   "source": [
    "pre_questions"
   ]
  },
  {
   "cell_type": "code",
   "execution_count": 37,
   "metadata": {},
   "outputs": [
    {
     "name": "stderr",
     "output_type": "stream",
     "text": [
      "c:\\Users\\sevi\\anaconda3\\lib\\site-packages\\matplotlib\\axes\\_base.py:2141: UserWarning: Warning: converting a masked element to nan.\n",
      "  xys = np.asarray(xys)\n"
     ]
    },
    {
     "data": {
      "image/png": "[encoded data removed]",
      "text/plain": [
       "<Figure size 1080x648 with 1 Axes>"
      ]
     },
     "metadata": {
      "needs_background": "light"
     },
     "output_type": "display_data"
    }
   ],
   "source": [
    "plot_agreement_levels(pre_questions, pre_means=pre_means, pre_group_means=pre_group_means, post_group_means=post_group_means, title='Pre-Reading Agreement Levels with Standard Deviations')"
   ]
  },
  {
   "cell_type": "code",
   "execution_count": 38,
   "metadata": {},
   "outputs": [
    {
     "data": {
      "image/png": "[encoded data removed]",
      "text/plain": [
       "<Figure size 1080x648 with 1 Axes>"
      ]
     },
     "metadata": {
      "needs_background": "light"
     },
     "output_type": "display_data"
    }
   ],
   "source": [
    "plot_agreement_levels(pre_questions, pre_means=pre_means, pre_group_means=pre_group_means, post_group_means=post_group_means, title='Pre-Reading Agreement Levels by Timelines Group')"
   ]
  },
  {
   "cell_type": "code",
   "execution_count": 39,
   "metadata": {},
   "outputs": [],
   "source": [
    "priority = [1, 5, 9]\n",
    "technical = [3,4,6,7]\n",
    "other = [2,8]\n",
    "\n",
    "priority_questions = [f'Q6_{i}' for i in priority]\n",
    "technical_questions = [f'Q6_{i}' for i in technical]\n",
    "other_questions = [f'Q6_{i}' for i in other]\n"
   ]
  },
  {
   "cell_type": "code",
   "execution_count": 40,
   "metadata": {},
   "outputs": [
    {
     "data": {
      "text/plain": [
       "['Q6_1', 'Q6_5', 'Q6_9']"
      ]
     },
     "execution_count": 40,
     "metadata": {},
     "output_type": "execute_result"
    }
   ],
   "source": [
    "priority_questions"
   ]
  },
  {
   "cell_type": "code",
   "execution_count": 41,
   "metadata": {},
   "outputs": [
    {
     "data": {
      "image/png": "[encoded data removed]",
      "text/plain": [
       "<Figure size 1080x648 with 1 Axes>"
      ]
     },
     "metadata": {
      "needs_background": "light"
     },
     "output_type": "display_data"
    }
   ],
   "source": [
    "plot_agreement_levels(priority_questions, pre_means=pre_means, pre_group_means=pre_group_means, post_group_means=post_group_means, title='Pre-Reading Agreement Levels with Standard Deviations')"
   ]
  },
  {
   "cell_type": "code",
   "execution_count": 46,
   "metadata": {},
   "outputs": [
    {
     "name": "stderr",
     "output_type": "stream",
     "text": [
      "c:\\Users\\sevi\\anaconda3\\lib\\site-packages\\matplotlib\\axes\\_base.py:2141: UserWarning: Warning: converting a masked element to nan.\n",
      "  xys = np.asarray(xys)\n"
     ]
    },
    {
     "data": {
      "image/png": "[encoded data removed]",
      "text/plain": [
       "<Figure size 432x432 with 1 Axes>"
      ]
     },
     "metadata": {
      "needs_background": "light"
     },
     "output_type": "display_data"
    }
   ],
   "source": [
    "plot_agreement_levels(technical_questions, figure_size=(6,6), pre_means=pre_means, pre_group_means=pre_group_means, post_group_means=post_group_means, title='Timing Preferences and Beliefs', save_pdf=True)"
   ]
  },
  {
   "cell_type": "code",
   "execution_count": 33,
   "metadata": {},
   "outputs": [
    {
     "data": {
      "text/html": [
       "<div>\n",
       "<style scoped>\n",
       "    .dataframe tbody tr th:only-of-type {\n",
       "        vertical-align: middle;\n",
       "    }\n",
       "\n",
       "    .dataframe tbody tr th {\n",
       "        vertical-align: top;\n",
       "    }\n",
       "\n",
       "    .dataframe thead th {\n",
       "        text-align: right;\n",
       "    }\n",
       "</style>\n",
       "<table border=\"1\" class=\"dataframe\">\n",
       "  <thead>\n",
       "    <tr style=\"text-align: right;\">\n",
       "      <th></th>\n",
       "      <th>Q6_1</th>\n",
       "      <th>Q6_2</th>\n",
       "      <th>Q6_3</th>\n",
       "      <th>Q6_4</th>\n",
       "      <th>Q6_5</th>\n",
       "      <th>Q6_6</th>\n",
       "      <th>Q6_7</th>\n",
       "      <th>Q6_8</th>\n",
       "      <th>Q6_9</th>\n",
       "    </tr>\n",
       "    <tr>\n",
       "      <th>Q5</th>\n",
       "      <th></th>\n",
       "      <th></th>\n",
       "      <th></th>\n",
       "      <th></th>\n",
       "      <th></th>\n",
       "      <th></th>\n",
       "      <th></th>\n",
       "      <th></th>\n",
       "      <th></th>\n",
       "    </tr>\n",
       "  </thead>\n",
       "  <tbody>\n",
       "    <tr>\n",
       "      <th>ASAP</th>\n",
       "      <td>3.631579</td>\n",
       "      <td>3.473684</td>\n",
       "      <td>2.421053</td>\n",
       "      <td>3.105263</td>\n",
       "      <td>3.789474</td>\n",
       "      <td>3.315789</td>\n",
       "      <td>2.947368</td>\n",
       "      <td>2.578947</td>\n",
       "      <td>3.789474</td>\n",
       "    </tr>\n",
       "    <tr>\n",
       "      <th>Eventually</th>\n",
       "      <td>2.944444</td>\n",
       "      <td>3.388889</td>\n",
       "      <td>2.694444</td>\n",
       "      <td>3.138889</td>\n",
       "      <td>2.861111</td>\n",
       "      <td>2.628571</td>\n",
       "      <td>3.500000</td>\n",
       "      <td>1.972222</td>\n",
       "      <td>4.055556</td>\n",
       "    </tr>\n",
       "    <tr>\n",
       "      <th>Never</th>\n",
       "      <td>3.500000</td>\n",
       "      <td>3.800000</td>\n",
       "      <td>1.400000</td>\n",
       "      <td>2.600000</td>\n",
       "      <td>2.600000</td>\n",
       "      <td>1.800000</td>\n",
       "      <td>3.800000</td>\n",
       "      <td>1.600000</td>\n",
       "      <td>4.800000</td>\n",
       "    </tr>\n",
       "    <tr>\n",
       "      <th>Soon</th>\n",
       "      <td>2.347826</td>\n",
       "      <td>3.043478</td>\n",
       "      <td>2.652174</td>\n",
       "      <td>3.000000</td>\n",
       "      <td>3.130435</td>\n",
       "      <td>2.695652</td>\n",
       "      <td>3.478261</td>\n",
       "      <td>2.260870</td>\n",
       "      <td>3.608696</td>\n",
       "    </tr>\n",
       "  </tbody>\n",
       "</table>\n",
       "</div>"
      ],
      "text/plain": [
       "                Q6_1      Q6_2      Q6_3      Q6_4      Q6_5      Q6_6  \\\n",
       "Q5                                                                       \n",
       "ASAP        3.631579  3.473684  2.421053  3.105263  3.789474  3.315789   \n",
       "Eventually  2.944444  3.388889  2.694444  3.138889  2.861111  2.628571   \n",
       "Never       3.500000  3.800000  1.400000  2.600000  2.600000  1.800000   \n",
       "Soon        2.347826  3.043478  2.652174  3.000000  3.130435  2.695652   \n",
       "\n",
       "                Q6_7      Q6_8      Q6_9  \n",
       "Q5                                        \n",
       "ASAP        2.947368  2.578947  3.789474  \n",
       "Eventually  3.500000  1.972222  4.055556  \n",
       "Never       3.800000  1.600000  4.800000  \n",
       "Soon        3.478261  2.260870  3.608696  "
      ]
     },
     "execution_count": 33,
     "metadata": {},
     "output_type": "execute_result"
    }
   ],
   "source": [
    "pre_group_means"
   ]
  },
  {
   "cell_type": "code",
   "execution_count": null,
   "metadata": {},
   "outputs": [],
   "source": []
  },
  {
   "cell_type": "code",
   "execution_count": null,
   "metadata": {},
   "outputs": [],
   "source": []
  }
 ],
 "metadata": {
  "kernelspec": {
   "display_name": "base",
   "language": "python",
   "name": "python3"
  },
  "language_info": {
   "codemirror_mode": {
    "name": "ipython",
    "version": 3
   },
   "file_extension": ".py",
   "mimetype": "text/x-python",
   "name": "python",
   "nbconvert_exporter": "python",
   "pygments_lexer": "ipython3",
   "version": "3.8.8"
  }
 },
 "nbformat": 4,
 "nbformat_minor": 2
}
