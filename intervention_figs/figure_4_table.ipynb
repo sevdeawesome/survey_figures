{
 "cells": [
  {
   "cell_type": "markdown",
   "metadata": {},
   "source": [
    "# TABLE OF AGREEMENT"
   ]
  },
  {
   "cell_type": "code",
   "execution_count": 34,
   "metadata": {},
   "outputs": [],
   "source": [
    "import pandas as pd\n",
    "\n",
    "import numpy as np\n",
    "import seaborn as sns\n",
    "import matplotlib.pyplot as plt\n",
    "from utils import *\n",
    "\n",
    "plt.style.use('../style.mplstyle')\n",
    "df = pd.read_csv(\"../latest.csv\")"
   ]
  },
  {
   "cell_type": "code",
   "execution_count": 2,
   "metadata": {},
   "outputs": [],
   "source": []
  },
  {
   "cell_type": "code",
   "execution_count": 35,
   "metadata": {},
   "outputs": [],
   "source": [
    "df = fix_data(df, drop_zeros=False)"
   ]
  },
  {
   "cell_type": "code",
   "execution_count": 36,
   "metadata": {},
   "outputs": [
    {
     "data": {
      "text/plain": [
       "Index(['StartDate', 'reading', 'Duration', 'Progress', 'Finished', 'Q42',\n",
       "       'Q43', 'Q1', 'Q1_7_TEXT', 'Q2', 'Q3_1', 'Q3_2', 'Q3_3', 'Q3_4', 'Q4_1',\n",
       "       'Q4_2', 'Q4_3', 'Q4_4', 'Q5', 'Q6_1', 'Q6_2', 'Q6_3', 'Q6_4', 'Q6_5',\n",
       "       'Q6_6', 'Q6_7', 'Q6_8', 'Q6_9', 'Q15', 'Q16_1', 'Q16_2', 'Q16_3',\n",
       "       'Q16_4', 'Q16_5', 'Q16_6', 'Q16_7', 'Q16_8', 'Q16_9', 'Q17', 'Q18',\n",
       "       'Q46'],\n",
       "      dtype='object')"
      ]
     },
     "execution_count": 36,
     "metadata": {},
     "output_type": "execute_result"
    }
   ],
   "source": [
    "df.columns"
   ]
  },
  {
   "cell_type": "code",
   "execution_count": 46,
   "metadata": {},
   "outputs": [],
   "source": [
    "first = df['Q16_6'].dropna()"
   ]
  },
  {
   "cell_type": "code",
   "execution_count": 47,
   "metadata": {},
   "outputs": [
    {
     "data": {
      "text/plain": [
       "Somewhat disagree             18\n",
       "strongly disagree             15\n",
       "Somewhat agree                13\n",
       "Neither agree nor disagree     9\n",
       "Strongly agree                 6\n",
       "Name: Q16_6, dtype: int64"
      ]
     },
     "execution_count": 47,
     "metadata": {},
     "output_type": "execute_result"
    }
   ],
   "source": [
    "first.value_counts()"
   ]
  },
  {
   "cell_type": "code",
   "execution_count": 45,
   "metadata": {},
   "outputs": [
    {
     "data": {
      "text/plain": [
       "0.7704918032786885"
      ]
     },
     "execution_count": 45,
     "metadata": {},
     "output_type": "execute_result"
    }
   ],
   "source": [
    "# question 9 :\n",
    "(26+21) / (26+21+8+6)"
   ]
  },
  {
   "cell_type": "code",
   "execution_count": 48,
   "metadata": {},
   "outputs": [
    {
     "data": {
      "text/plain": [
       "0.3114754098360656"
      ]
     },
     "execution_count": 48,
     "metadata": {},
     "output_type": "execute_result"
    }
   ],
   "source": [
    "# Q6\n",
    "(13+6) / (13+6+15+18+9)"
   ]
  },
  {
   "cell_type": "code",
   "execution_count": null,
   "metadata": {},
   "outputs": [],
   "source": [
    "(42) / (42 + 18 + 14+ 8)"
   ]
  },
  {
   "cell_type": "code",
   "execution_count": null,
   "metadata": {},
   "outputs": [],
   "source": []
  },
  {
   "cell_type": "code",
   "execution_count": 39,
   "metadata": {},
   "outputs": [
    {
     "data": {
      "text/plain": [
       "33"
      ]
     },
     "execution_count": 39,
     "metadata": {},
     "output_type": "execute_result"
    }
   ],
   "source": [
    "18+15"
   ]
  },
  {
   "cell_type": "code",
   "execution_count": 40,
   "metadata": {},
   "outputs": [
    {
     "data": {
      "text/plain": [
       "61"
      ]
     },
     "execution_count": 40,
     "metadata": {},
     "output_type": "execute_result"
    }
   ],
   "source": [
    "18+15+13+9+6"
   ]
  },
  {
   "cell_type": "code",
   "execution_count": null,
   "metadata": {},
   "outputs": [],
   "source": []
  },
  {
   "cell_type": "code",
   "execution_count": null,
   "metadata": {},
   "outputs": [],
   "source": [
    "df['Q9_9']"
   ]
  },
  {
   "cell_type": "code",
   "execution_count": 3,
   "metadata": {},
   "outputs": [
    {
     "name": "stdout",
     "output_type": "stream",
     "text": [
      "length of df:  106\n",
      "\n",
      "\n"
     ]
    },
    {
     "data": {
      "text/html": [
       "<div>\n",
       "<style scoped>\n",
       "    .dataframe tbody tr th:only-of-type {\n",
       "        vertical-align: middle;\n",
       "    }\n",
       "\n",
       "    .dataframe tbody tr th {\n",
       "        vertical-align: top;\n",
       "    }\n",
       "\n",
       "    .dataframe thead th {\n",
       "        text-align: right;\n",
       "    }\n",
       "</style>\n",
       "<table border=\"1\" class=\"dataframe\">\n",
       "  <thead>\n",
       "    <tr style=\"text-align: right;\">\n",
       "      <th></th>\n",
       "      <th>StartDate</th>\n",
       "      <th>reading</th>\n",
       "      <th>Duration</th>\n",
       "      <th>Progress</th>\n",
       "      <th>Finished</th>\n",
       "      <th>Q42</th>\n",
       "      <th>Q43</th>\n",
       "      <th>Q1</th>\n",
       "      <th>Q1_7_TEXT</th>\n",
       "      <th>Q2</th>\n",
       "      <th>...</th>\n",
       "      <th>Q16_3</th>\n",
       "      <th>Q16_4</th>\n",
       "      <th>Q16_5</th>\n",
       "      <th>Q16_6</th>\n",
       "      <th>Q16_7</th>\n",
       "      <th>Q16_8</th>\n",
       "      <th>Q16_9</th>\n",
       "      <th>Q17</th>\n",
       "      <th>Q18</th>\n",
       "      <th>Q46</th>\n",
       "    </tr>\n",
       "  </thead>\n",
       "  <tbody>\n",
       "    <tr>\n",
       "      <th>0</th>\n",
       "      <td>2024-08-08 23:30:29</td>\n",
       "      <td>7</td>\n",
       "      <td>118</td>\n",
       "      <td>100</td>\n",
       "      <td>True</td>\n",
       "      <td>Agree</td>\n",
       "      <td>LinkedIn DM</td>\n",
       "      <td>Industry</td>\n",
       "      <td>NaN</td>\n",
       "      <td>2.0</td>\n",
       "      <td>...</td>\n",
       "      <td>Somewhat agree</td>\n",
       "      <td>Somewhat agree</td>\n",
       "      <td>Somewhat agree</td>\n",
       "      <td>Somewhat agree</td>\n",
       "      <td>Somewhat agree</td>\n",
       "      <td>Somewhat agree</td>\n",
       "      <td>Somewhat agree</td>\n",
       "      <td>NaN</td>\n",
       "      <td>NaN</td>\n",
       "      <td>NaN</td>\n",
       "    </tr>\n",
       "  </tbody>\n",
       "</table>\n",
       "<p>1 rows × 41 columns</p>\n",
       "</div>"
      ],
      "text/plain": [
       "             StartDate  reading  Duration  Progress  Finished    Q42  \\\n",
       "0  2024-08-08 23:30:29        7       118       100      True  Agree   \n",
       "\n",
       "           Q43        Q1  Q1_7_TEXT   Q2  ...           Q16_3           Q16_4  \\\n",
       "0  LinkedIn DM  Industry        NaN  2.0  ...  Somewhat agree  Somewhat agree   \n",
       "\n",
       "            Q16_5           Q16_6           Q16_7           Q16_8  \\\n",
       "0  Somewhat agree  Somewhat agree  Somewhat agree  Somewhat agree   \n",
       "\n",
       "            Q16_9  Q17  Q18  Q46  \n",
       "0  Somewhat agree  NaN  NaN  NaN  \n",
       "\n",
       "[1 rows x 41 columns]"
      ]
     },
     "execution_count": 3,
     "metadata": {},
     "output_type": "execute_result"
    }
   ],
   "source": [
    "print(\"length of df: \", len(df))\n",
    "print('\\n')\n",
    "df.head(1)"
   ]
  },
  {
   "cell_type": "code",
   "execution_count": 4,
   "metadata": {},
   "outputs": [],
   "source": [
    "\n",
    "import pandas as pd\n",
    "import numpy as np\n",
    "import matplotlib.pyplot as plt\n",
    "import seaborn as sns\n",
    "\n",
    "# Assuming df is your DataFrame\n",
    "# Create lists of pre- and post-reading question columns\n",
    "pre_questions = [f'Q6_{i}' for i in range(1, 10)]\n",
    "post_questions = [f'Q16_{i}' for i in range(1, 10)]\n",
    "\n"
   ]
  },
  {
   "cell_type": "code",
   "execution_count": 5,
   "metadata": {},
   "outputs": [
    {
     "data": {
      "text/plain": [
       "Q6_1                        Q6_2                        Q6_3                        Q6_4                        Q6_5                        Q6_6                        Q6_7                        Q6_8                        Q6_9                      \n",
       "Somewhat agree              Somewhat agree              Somewhat agree              Somewhat agree              Somewhat agree              Somewhat agree              Somewhat agree              Somewhat agree              Somewhat agree                3\n",
       "Neither agree nor disagree  Neither agree nor disagree  Neither agree nor disagree  Neither agree nor disagree  Neither agree nor disagree  Neither agree nor disagree  Neither agree nor disagree  Neither agree nor disagree  Neither agree nor disagree    2\n",
       "Somewhat disagree           Neither agree nor disagree  Somewhat disagree           Neither agree nor disagree  Somewhat disagree           Somewhat disagree           Neither agree nor disagree  strongly disagree           Somewhat agree                1\n",
       "Strongly agree              Somewhat agree              Somewhat disagree           Strongly agree              Strongly agree              Somewhat agree              Somewhat agree              strongly disagree           Somewhat agree                1\n",
       "                            Neither agree nor disagree  strongly disagree           Somewhat agree              Somewhat agree              Neither agree nor disagree  Neither agree nor disagree  Strongly agree              Somewhat agree                1\n",
       "                                                                                                                                                                                                                                                             ..\n",
       "Somewhat agree              Somewhat agree              Somewhat disagree           Neither agree nor disagree  Somewhat disagree           strongly disagree           Neither agree nor disagree  Somewhat disagree           Strongly agree                1\n",
       "                                                        Somewhat agree              strongly disagree           Neither agree nor disagree  Somewhat disagree           Somewhat disagree           Somewhat agree              Strongly agree                1\n",
       "                                                                                    Somewhat agree              Neither agree nor disagree  Neither agree nor disagree  Neither agree nor disagree  strongly disagree           Somewhat agree                1\n",
       "                                                        Neither agree nor disagree  Somewhat disagree           Somewhat agree              Somewhat disagree           Somewhat agree              Somewhat disagree           Somewhat agree                1\n",
       "strongly disagree           strongly disagree           strongly disagree           Somewhat agree              Neither agree nor disagree  Somewhat agree              Strongly agree              strongly disagree           Strongly agree                1\n",
       "Length: 79, dtype: int64"
      ]
     },
     "execution_count": 5,
     "metadata": {},
     "output_type": "execute_result"
    }
   ],
   "source": [
    "df[pre_questions].value_counts()"
   ]
  },
  {
   "cell_type": "code",
   "execution_count": 6,
   "metadata": {},
   "outputs": [],
   "source": [
    "# change the likert scale to numerical\n",
    "swaps = {\n",
    "    \"strongly disagree\": 1,\n",
    "    \"Somewhat disagree\": 2,\n",
    "    \"Neither agree nor disagree\": 3,\n",
    "    \"Somewhat agree\": 4,\n",
    "    \"Strongly agree\": 5,\n",
    "}\n",
    "\n",
    "df[pre_questions] = df[pre_questions].replace(swaps)\n",
    "df[post_questions] = df[post_questions].replace(swaps)"
   ]
  },
  {
   "cell_type": "code",
   "execution_count": 7,
   "metadata": {},
   "outputs": [],
   "source": [
    "\n",
    "# Calculate mean agreement scores for pre- and post-reading\n",
    "pre_means = df[pre_questions].mean()\n",
    "post_means = df[post_questions].mean()"
   ]
  },
  {
   "cell_type": "code",
   "execution_count": 8,
   "metadata": {},
   "outputs": [],
   "source": [
    "\n",
    "# Calculate group means for pre- and post-reading\n",
    "groups = df['Q1'].unique()\n",
    "pre_group_means = df.groupby('Q1')[pre_questions].mean()\n",
    "post_group_means = df.groupby('Q1')[post_questions].mean()\n"
   ]
  },
  {
   "cell_type": "code",
   "execution_count": 9,
   "metadata": {},
   "outputs": [
    {
     "data": {
      "text/html": [
       "<div>\n",
       "<style scoped>\n",
       "    .dataframe tbody tr th:only-of-type {\n",
       "        vertical-align: middle;\n",
       "    }\n",
       "\n",
       "    .dataframe tbody tr th {\n",
       "        vertical-align: top;\n",
       "    }\n",
       "\n",
       "    .dataframe thead th {\n",
       "        text-align: right;\n",
       "    }\n",
       "</style>\n",
       "<table border=\"1\" class=\"dataframe\">\n",
       "  <thead>\n",
       "    <tr style=\"text-align: right;\">\n",
       "      <th></th>\n",
       "      <th>Q6_1</th>\n",
       "      <th>Q6_2</th>\n",
       "      <th>Q6_3</th>\n",
       "      <th>Q6_4</th>\n",
       "      <th>Q6_5</th>\n",
       "      <th>Q6_6</th>\n",
       "      <th>Q6_7</th>\n",
       "      <th>Q6_8</th>\n",
       "      <th>Q6_9</th>\n",
       "    </tr>\n",
       "    <tr>\n",
       "      <th>Q1</th>\n",
       "      <th></th>\n",
       "      <th></th>\n",
       "      <th></th>\n",
       "      <th></th>\n",
       "      <th></th>\n",
       "      <th></th>\n",
       "      <th></th>\n",
       "      <th></th>\n",
       "      <th></th>\n",
       "    </tr>\n",
       "  </thead>\n",
       "  <tbody>\n",
       "    <tr>\n",
       "      <th>AI Safety Researcher</th>\n",
       "      <td>1.857143</td>\n",
       "      <td>4.285714</td>\n",
       "      <td>3.571429</td>\n",
       "      <td>2.571429</td>\n",
       "      <td>1.571429</td>\n",
       "      <td>1.285714</td>\n",
       "      <td>3.714286</td>\n",
       "      <td>2.142857</td>\n",
       "      <td>4.714286</td>\n",
       "    </tr>\n",
       "    <tr>\n",
       "      <th>Academic</th>\n",
       "      <td>3.178571</td>\n",
       "      <td>3.290909</td>\n",
       "      <td>2.400000</td>\n",
       "      <td>3.090909</td>\n",
       "      <td>3.272727</td>\n",
       "      <td>2.927273</td>\n",
       "      <td>3.345455</td>\n",
       "      <td>2.290909</td>\n",
       "      <td>3.945455</td>\n",
       "    </tr>\n",
       "    <tr>\n",
       "      <th>Industry</th>\n",
       "      <td>2.928571</td>\n",
       "      <td>3.214286</td>\n",
       "      <td>2.285714</td>\n",
       "      <td>3.500000</td>\n",
       "      <td>3.571429</td>\n",
       "      <td>2.714286</td>\n",
       "      <td>3.357143</td>\n",
       "      <td>1.857143</td>\n",
       "      <td>3.714286</td>\n",
       "    </tr>\n",
       "    <tr>\n",
       "      <th>Other</th>\n",
       "      <td>2.500000</td>\n",
       "      <td>3.000000</td>\n",
       "      <td>3.166667</td>\n",
       "      <td>2.333333</td>\n",
       "      <td>2.833333</td>\n",
       "      <td>3.200000</td>\n",
       "      <td>3.500000</td>\n",
       "      <td>2.000000</td>\n",
       "      <td>3.666667</td>\n",
       "    </tr>\n",
       "  </tbody>\n",
       "</table>\n",
       "</div>"
      ],
      "text/plain": [
       "                          Q6_1      Q6_2      Q6_3      Q6_4      Q6_5  \\\n",
       "Q1                                                                       \n",
       "AI Safety Researcher  1.857143  4.285714  3.571429  2.571429  1.571429   \n",
       "Academic              3.178571  3.290909  2.400000  3.090909  3.272727   \n",
       "Industry              2.928571  3.214286  2.285714  3.500000  3.571429   \n",
       "Other                 2.500000  3.000000  3.166667  2.333333  2.833333   \n",
       "\n",
       "                          Q6_6      Q6_7      Q6_8      Q6_9  \n",
       "Q1                                                            \n",
       "AI Safety Researcher  1.285714  3.714286  2.142857  4.714286  \n",
       "Academic              2.927273  3.345455  2.290909  3.945455  \n",
       "Industry              2.714286  3.357143  1.857143  3.714286  \n",
       "Other                 3.200000  3.500000  2.000000  3.666667  "
      ]
     },
     "execution_count": 9,
     "metadata": {},
     "output_type": "execute_result"
    }
   ],
   "source": [
    "pre_group_means"
   ]
  },
  {
   "cell_type": "code",
   "execution_count": 10,
   "metadata": {},
   "outputs": [
    {
     "data": {
      "text/html": [
       "<div>\n",
       "<style scoped>\n",
       "    .dataframe tbody tr th:only-of-type {\n",
       "        vertical-align: middle;\n",
       "    }\n",
       "\n",
       "    .dataframe tbody tr th {\n",
       "        vertical-align: top;\n",
       "    }\n",
       "\n",
       "    .dataframe thead th {\n",
       "        text-align: right;\n",
       "    }\n",
       "</style>\n",
       "<table border=\"1\" class=\"dataframe\">\n",
       "  <thead>\n",
       "    <tr style=\"text-align: right;\">\n",
       "      <th></th>\n",
       "      <th>Q16_1</th>\n",
       "      <th>Q16_2</th>\n",
       "      <th>Q16_3</th>\n",
       "      <th>Q16_4</th>\n",
       "      <th>Q16_5</th>\n",
       "      <th>Q16_6</th>\n",
       "      <th>Q16_7</th>\n",
       "      <th>Q16_8</th>\n",
       "      <th>Q16_9</th>\n",
       "    </tr>\n",
       "    <tr>\n",
       "      <th>Q1</th>\n",
       "      <th></th>\n",
       "      <th></th>\n",
       "      <th></th>\n",
       "      <th></th>\n",
       "      <th></th>\n",
       "      <th></th>\n",
       "      <th></th>\n",
       "      <th></th>\n",
       "      <th></th>\n",
       "    </tr>\n",
       "  </thead>\n",
       "  <tbody>\n",
       "    <tr>\n",
       "      <th>AI Safety Researcher</th>\n",
       "      <td>1.857143</td>\n",
       "      <td>4.142857</td>\n",
       "      <td>3.714286</td>\n",
       "      <td>2.285714</td>\n",
       "      <td>1.428571</td>\n",
       "      <td>1.285714</td>\n",
       "      <td>3.714286</td>\n",
       "      <td>2.142857</td>\n",
       "      <td>4.571429</td>\n",
       "    </tr>\n",
       "    <tr>\n",
       "      <th>Academic</th>\n",
       "      <td>3.093023</td>\n",
       "      <td>3.095238</td>\n",
       "      <td>2.380952</td>\n",
       "      <td>3.190476</td>\n",
       "      <td>3.428571</td>\n",
       "      <td>3.023810</td>\n",
       "      <td>3.166667</td>\n",
       "      <td>2.238095</td>\n",
       "      <td>3.976190</td>\n",
       "    </tr>\n",
       "    <tr>\n",
       "      <th>Industry</th>\n",
       "      <td>3.125000</td>\n",
       "      <td>2.875000</td>\n",
       "      <td>2.500000</td>\n",
       "      <td>3.250000</td>\n",
       "      <td>3.500000</td>\n",
       "      <td>2.125000</td>\n",
       "      <td>2.875000</td>\n",
       "      <td>2.000000</td>\n",
       "      <td>3.875000</td>\n",
       "    </tr>\n",
       "    <tr>\n",
       "      <th>Other</th>\n",
       "      <td>2.600000</td>\n",
       "      <td>3.400000</td>\n",
       "      <td>3.000000</td>\n",
       "      <td>2.800000</td>\n",
       "      <td>2.400000</td>\n",
       "      <td>1.750000</td>\n",
       "      <td>3.750000</td>\n",
       "      <td>1.500000</td>\n",
       "      <td>4.250000</td>\n",
       "    </tr>\n",
       "  </tbody>\n",
       "</table>\n",
       "</div>"
      ],
      "text/plain": [
       "                         Q16_1     Q16_2     Q16_3     Q16_4     Q16_5  \\\n",
       "Q1                                                                       \n",
       "AI Safety Researcher  1.857143  4.142857  3.714286  2.285714  1.428571   \n",
       "Academic              3.093023  3.095238  2.380952  3.190476  3.428571   \n",
       "Industry              3.125000  2.875000  2.500000  3.250000  3.500000   \n",
       "Other                 2.600000  3.400000  3.000000  2.800000  2.400000   \n",
       "\n",
       "                         Q16_6     Q16_7     Q16_8     Q16_9  \n",
       "Q1                                                            \n",
       "AI Safety Researcher  1.285714  3.714286  2.142857  4.571429  \n",
       "Academic              3.023810  3.166667  2.238095  3.976190  \n",
       "Industry              2.125000  2.875000  2.000000  3.875000  \n",
       "Other                 1.750000  3.750000  1.500000  4.250000  "
      ]
     },
     "execution_count": 10,
     "metadata": {},
     "output_type": "execute_result"
    }
   ],
   "source": [
    "post_group_means"
   ]
  },
  {
   "cell_type": "code",
   "execution_count": 11,
   "metadata": {},
   "outputs": [
    {
     "data": {
      "text/plain": [
       "['S1', 'S2', 'S3', 'S4', 'S5', 'S6', 'S7', 'S8', 'S9']"
      ]
     },
     "execution_count": 11,
     "metadata": {},
     "output_type": "execute_result"
    }
   ],
   "source": [
    "[f'S{i}' for i in range(1, 10)]"
   ]
  },
  {
   "cell_type": "code",
   "execution_count": 12,
   "metadata": {},
   "outputs": [],
   "source": [
    "import matplotlib.pyplot as plt\n",
    "import seaborn as sns\n",
    "import pandas as pd\n",
    "import numpy as np\n",
    "\n",
    "# Assuming pre_means and post_group_means are already defined as shown in the images\n",
    "\n",
    "# Set up the plot style\n",
    "# plt.style.use('seaborn')\n",
    "# plt.rcParams['font.family'] = 'serif'\n",
    "# plt.rcParams['xtick.labelsize'] = 'x-small'\n",
    "# plt.rcParams['ytick.labelsize'] = 'x-small'\n",
    "\n"
   ]
  },
  {
   "cell_type": "code",
   "execution_count": 13,
   "metadata": {},
   "outputs": [],
   "source": [
    "statements = {\n",
    "1: \"AGI is too far away to be worth worrying about\",\n",
    "2: \"Some AI's (now or in the future) may be moral patients, with their own welfare that we should care about\",\n",
    "3: \"Existing ML paradigms can produce AGI\",\n",
    "4: \"Future AI's will be tools without their own goals or drives\",\n",
    "5: \"Catastrophic risks from advanced AI are generally overstated\",\n",
    "6: \"We can always just turn off our AI's if they behave badly\",\n",
    "7: \"Self-preservation and control drives will spontaneously emerge in sufficiently advanced AI's\",\n",
    "8: \"Safety work often slows important progress and wastes time\",\n",
    "9: \"technical AI researchers should be concerned about catastrophic risks\"\n",
    "}"
   ]
  },
  {
   "cell_type": "code",
   "execution_count": 14,
   "metadata": {},
   "outputs": [
    {
     "data": {
      "text/plain": [
       "array(['Industry', 'Academic', nan, 'AI Safety Researcher', 'Other'],\n",
       "      dtype=object)"
      ]
     },
     "execution_count": 14,
     "metadata": {},
     "output_type": "execute_result"
    }
   ],
   "source": [
    "groups"
   ]
  },
  {
   "cell_type": "code",
   "execution_count": 15,
   "metadata": {},
   "outputs": [],
   "source": [
    "# drop nan from groups (its an array)\n",
    "groups = groups[~pd.isnull(groups)]"
   ]
  },
  {
   "cell_type": "code",
   "execution_count": 16,
   "metadata": {},
   "outputs": [
    {
     "data": {
      "text/plain": [
       "array(['Industry', 'Academic', 'AI Safety Researcher', 'Other'],\n",
       "      dtype=object)"
      ]
     },
     "execution_count": 16,
     "metadata": {},
     "output_type": "execute_result"
    }
   ],
   "source": [
    "groups"
   ]
  },
  {
   "cell_type": "markdown",
   "metadata": {},
   "source": [
    "# STANDARD DEVIATION"
   ]
  },
  {
   "cell_type": "code",
   "execution_count": null,
   "metadata": {},
   "outputs": [],
   "source": []
  },
  {
   "cell_type": "code",
   "execution_count": 17,
   "metadata": {},
   "outputs": [
    {
     "data": {
      "image/png": "[encoded data removed]",
      "text/plain": [
       "<Figure size 1080x648 with 1 Axes>"
      ]
     },
     "metadata": {
      "needs_background": "light"
     },
     "output_type": "display_data"
    }
   ],
   "source": [
    "import matplotlib.pyplot as plt\n",
    "import seaborn as sns\n",
    "import numpy as np\n",
    "import pandas as pd\n",
    "\n",
    "fig, ax = plt.subplots(figsize=(15, 9))\n",
    "\n",
    "x = range(1, 10)\n",
    "bar_width = 0.6\n",
    "\n",
    "# Calculate total means and standard deviations\n",
    "total_means = pre_means\n",
    "total_stds = df[['Q6_1', 'Q6_2', 'Q6_3', 'Q6_4', 'Q6_5', 'Q6_6', 'Q6_7', 'Q6_8', 'Q6_9']].std()\n",
    "\n",
    "# Plot total means with error bars\n",
    "bars = ax.bar(x, total_means, color='lightblue', alpha=0.7, width=bar_width, yerr=total_stds, capsize=5, zorder=1)\n",
    "\n",
    "# Define color palette explicitly\n",
    "groups = ['AI Safety Researcher', 'Academic', 'Industry', 'Other']\n",
    "colors = sns.color_palette(\"husl\", n_colors=len(groups))\n",
    "\n",
    "# Calculate offsets for spreading out the points\n",
    "num_groups = len(groups)\n",
    "offsets = np.linspace(-bar_width/2 + bar_width/(num_groups*2), \n",
    "                      bar_width/2 - bar_width/(num_groups*2), \n",
    "                      num_groups)\n",
    "\n",
    "# Plot group means as scatter points with error bars\n",
    "for i, group in enumerate(groups):\n",
    "    pre_group_means_row = pre_group_means.loc[group, ['Q6_1', 'Q6_2', 'Q6_3', 'Q6_4', 'Q6_5', 'Q6_6', 'Q6_7', 'Q6_8', 'Q6_9']]\n",
    "    \n",
    "    # Calculate standard deviations for this group\n",
    "    group_stds = df[df['Q1'] == group][['Q6_1', 'Q6_2', 'Q6_3', 'Q6_4', 'Q6_5', 'Q6_6', 'Q6_7', 'Q6_8', 'Q6_9']].std()\n",
    "    \n",
    "    for j in range(9):\n",
    "        x_pos = x[j] + offsets[i]\n",
    "        ax.errorbar(x_pos, pre_group_means_row[j], yerr=group_stds[j], \n",
    "                    fmt='o', color=colors[i], capsize=5, capthick=1, zorder=2)\n",
    "\n",
    "# Customize the plot\n",
    "ax.set_ylabel('Agreement Level', fontsize='medium')\n",
    "ax.set_xlabel('Statements', fontsize='medium')\n",
    "ax.set_title('Pre-Reading Agreement Levels with Standard Deviations', fontsize='large')\n",
    "ax.set_xticks(x)\n",
    "ax.set_xticklabels([f'S{i}' for i in range(1, 10)])\n",
    "\n",
    "# Create legend with correct colors\n",
    "legend_elements = [plt.Line2D([0], [0], marker='o', color='w', label=group, \n",
    "                   markerfacecolor=color, markersize=10) \n",
    "                   for group, color in zip(groups, colors)]\n",
    "ax.legend(handles=legend_elements, title='Groups', fontsize='x-small', title_fontsize='small')\n",
    "\n",
    "# Set y-axis limits to accommodate error bars\n",
    "y_min = 0  # Assuming agreement levels start at 0\n",
    "y_max = max((pre_group_means + group_stds).max().max(), (total_means + total_stds).max()) + 0.5\n",
    "ax.set_ylim(y_min, y_max)\n",
    "ax.set_ylim(1, 5)\n",
    "\n",
    "plt.tight_layout()\n",
    "plt.show()"
   ]
  },
  {
   "cell_type": "code",
   "execution_count": 18,
   "metadata": {},
   "outputs": [],
   "source": [
    "statements = {\n",
    "1: \"AGI is too far away to be worth worrying about\",\n",
    "2: \"Some AI's (now or in the future) may be moral patients, with their own welfare that we should care about\",\n",
    "3: \"Existing ML paradigms can produce AGI\",\n",
    "4: \"Future AI's will be tools without their own goals or drives\",\n",
    "5: \"Catastrophic risks from advanced AI are generally overstated\",\n",
    "6: \"We can always just turn off our AI's if they behave badly\",\n",
    "7: \"Self-preservation and control drives will spontaneously emerge in sufficiently advanced AI's\",\n",
    "8: \"Safety work often slows important progress and wastes time\",\n",
    "9: \"technical AI researchers should be concerned about catastrophic risks\"\n",
    "}"
   ]
  },
  {
   "cell_type": "code",
   "execution_count": 19,
   "metadata": {},
   "outputs": [
    {
     "data": {
      "text/plain": [
       "Q6_1    2.976190\n",
       "Q6_2    3.337349\n",
       "Q6_3    2.542169\n",
       "Q6_4    3.060241\n",
       "Q6_5    3.132530\n",
       "Q6_6    2.756098\n",
       "Q6_7    3.385542\n",
       "Q6_8    2.168675\n",
       "Q6_9    3.915663\n",
       "dtype: float64"
      ]
     },
     "execution_count": 19,
     "metadata": {},
     "output_type": "execute_result"
    }
   ],
   "source": [
    "pre_means"
   ]
  },
  {
   "cell_type": "code",
   "execution_count": 20,
   "metadata": {},
   "outputs": [
    {
     "data": {
      "text/html": [
       "<div>\n",
       "<style scoped>\n",
       "    .dataframe tbody tr th:only-of-type {\n",
       "        vertical-align: middle;\n",
       "    }\n",
       "\n",
       "    .dataframe tbody tr th {\n",
       "        vertical-align: top;\n",
       "    }\n",
       "\n",
       "    .dataframe thead th {\n",
       "        text-align: right;\n",
       "    }\n",
       "</style>\n",
       "<table border=\"1\" class=\"dataframe\">\n",
       "  <thead>\n",
       "    <tr style=\"text-align: right;\">\n",
       "      <th></th>\n",
       "      <th>Q6_1</th>\n",
       "      <th>Q6_2</th>\n",
       "      <th>Q6_3</th>\n",
       "      <th>Q6_4</th>\n",
       "      <th>Q6_5</th>\n",
       "      <th>Q6_6</th>\n",
       "      <th>Q6_7</th>\n",
       "      <th>Q6_8</th>\n",
       "      <th>Q6_9</th>\n",
       "    </tr>\n",
       "    <tr>\n",
       "      <th>Q1</th>\n",
       "      <th></th>\n",
       "      <th></th>\n",
       "      <th></th>\n",
       "      <th></th>\n",
       "      <th></th>\n",
       "      <th></th>\n",
       "      <th></th>\n",
       "      <th></th>\n",
       "      <th></th>\n",
       "    </tr>\n",
       "  </thead>\n",
       "  <tbody>\n",
       "    <tr>\n",
       "      <th>AI Safety Researcher</th>\n",
       "      <td>1.857143</td>\n",
       "      <td>4.285714</td>\n",
       "      <td>3.571429</td>\n",
       "      <td>2.571429</td>\n",
       "      <td>1.571429</td>\n",
       "      <td>1.285714</td>\n",
       "      <td>3.714286</td>\n",
       "      <td>2.142857</td>\n",
       "      <td>4.714286</td>\n",
       "    </tr>\n",
       "    <tr>\n",
       "      <th>Academic</th>\n",
       "      <td>3.178571</td>\n",
       "      <td>3.290909</td>\n",
       "      <td>2.400000</td>\n",
       "      <td>3.090909</td>\n",
       "      <td>3.272727</td>\n",
       "      <td>2.927273</td>\n",
       "      <td>3.345455</td>\n",
       "      <td>2.290909</td>\n",
       "      <td>3.945455</td>\n",
       "    </tr>\n",
       "    <tr>\n",
       "      <th>Industry</th>\n",
       "      <td>2.928571</td>\n",
       "      <td>3.214286</td>\n",
       "      <td>2.285714</td>\n",
       "      <td>3.500000</td>\n",
       "      <td>3.571429</td>\n",
       "      <td>2.714286</td>\n",
       "      <td>3.357143</td>\n",
       "      <td>1.857143</td>\n",
       "      <td>3.714286</td>\n",
       "    </tr>\n",
       "    <tr>\n",
       "      <th>Other</th>\n",
       "      <td>2.500000</td>\n",
       "      <td>3.000000</td>\n",
       "      <td>3.166667</td>\n",
       "      <td>2.333333</td>\n",
       "      <td>2.833333</td>\n",
       "      <td>3.200000</td>\n",
       "      <td>3.500000</td>\n",
       "      <td>2.000000</td>\n",
       "      <td>3.666667</td>\n",
       "    </tr>\n",
       "  </tbody>\n",
       "</table>\n",
       "</div>"
      ],
      "text/plain": [
       "                          Q6_1      Q6_2      Q6_3      Q6_4      Q6_5  \\\n",
       "Q1                                                                       \n",
       "AI Safety Researcher  1.857143  4.285714  3.571429  2.571429  1.571429   \n",
       "Academic              3.178571  3.290909  2.400000  3.090909  3.272727   \n",
       "Industry              2.928571  3.214286  2.285714  3.500000  3.571429   \n",
       "Other                 2.500000  3.000000  3.166667  2.333333  2.833333   \n",
       "\n",
       "                          Q6_6      Q6_7      Q6_8      Q6_9  \n",
       "Q1                                                            \n",
       "AI Safety Researcher  1.285714  3.714286  2.142857  4.714286  \n",
       "Academic              2.927273  3.345455  2.290909  3.945455  \n",
       "Industry              2.714286  3.357143  1.857143  3.714286  \n",
       "Other                 3.200000  3.500000  2.000000  3.666667  "
      ]
     },
     "execution_count": 20,
     "metadata": {},
     "output_type": "execute_result"
    }
   ],
   "source": [
    "pre_group_means"
   ]
  },
  {
   "cell_type": "code",
   "execution_count": 21,
   "metadata": {},
   "outputs": [],
   "source": [
    "group_stds = df[['Q6_1', 'Q6_2', 'Q6_3', 'Q6_4', 'Q6_5', 'Q6_6', 'Q6_7', 'Q6_8', 'Q6_9']].std()"
   ]
  },
  {
   "cell_type": "code",
   "execution_count": 22,
   "metadata": {},
   "outputs": [
    {
     "data": {
      "text/plain": [
       "Q6_1    1.307773\n",
       "Q6_2    1.171585\n",
       "Q6_3    1.182197\n",
       "Q6_4    1.074646\n",
       "Q6_5    1.187034\n",
       "Q6_6    1.319942\n",
       "Q6_7    1.033952\n",
       "Q6_8    1.177215\n",
       "Q6_9    1.128401\n",
       "dtype: float64"
      ]
     },
     "execution_count": 22,
     "metadata": {},
     "output_type": "execute_result"
    }
   ],
   "source": [
    "group_stds"
   ]
  },
  {
   "cell_type": "markdown",
   "metadata": {},
   "source": [
    "# COMBINE THOSE 3\n"
   ]
  },
  {
   "cell_type": "code",
   "execution_count": 26,
   "metadata": {},
   "outputs": [],
   "source": [
    "\n"
   ]
  },
  {
   "cell_type": "code",
   "execution_count": 23,
   "metadata": {},
   "outputs": [
    {
     "data": {
      "text/html": [
       "<div>\n",
       "<style scoped>\n",
       "    .dataframe tbody tr th:only-of-type {\n",
       "        vertical-align: middle;\n",
       "    }\n",
       "\n",
       "    .dataframe tbody tr th {\n",
       "        vertical-align: top;\n",
       "    }\n",
       "\n",
       "    .dataframe thead th {\n",
       "        text-align: right;\n",
       "    }\n",
       "</style>\n",
       "<table border=\"1\" class=\"dataframe\">\n",
       "  <thead>\n",
       "    <tr style=\"text-align: right;\">\n",
       "      <th></th>\n",
       "      <th>Q6_1</th>\n",
       "      <th>Q6_2</th>\n",
       "      <th>Q6_3</th>\n",
       "      <th>Q6_4</th>\n",
       "      <th>Q6_5</th>\n",
       "      <th>Q6_6</th>\n",
       "      <th>Q6_7</th>\n",
       "      <th>Q6_8</th>\n",
       "      <th>Q6_9</th>\n",
       "    </tr>\n",
       "    <tr>\n",
       "      <th>Q1</th>\n",
       "      <th></th>\n",
       "      <th></th>\n",
       "      <th></th>\n",
       "      <th></th>\n",
       "      <th></th>\n",
       "      <th></th>\n",
       "      <th></th>\n",
       "      <th></th>\n",
       "      <th></th>\n",
       "    </tr>\n",
       "  </thead>\n",
       "  <tbody>\n",
       "    <tr>\n",
       "      <th>AI Safety Researcher</th>\n",
       "      <td>1.857143</td>\n",
       "      <td>4.285714</td>\n",
       "      <td>3.571429</td>\n",
       "      <td>2.571429</td>\n",
       "      <td>1.571429</td>\n",
       "      <td>1.285714</td>\n",
       "      <td>3.714286</td>\n",
       "      <td>2.142857</td>\n",
       "      <td>4.714286</td>\n",
       "    </tr>\n",
       "    <tr>\n",
       "      <th>Academic</th>\n",
       "      <td>3.178571</td>\n",
       "      <td>3.290909</td>\n",
       "      <td>2.400000</td>\n",
       "      <td>3.090909</td>\n",
       "      <td>3.272727</td>\n",
       "      <td>2.927273</td>\n",
       "      <td>3.345455</td>\n",
       "      <td>2.290909</td>\n",
       "      <td>3.945455</td>\n",
       "    </tr>\n",
       "    <tr>\n",
       "      <th>Industry</th>\n",
       "      <td>2.928571</td>\n",
       "      <td>3.214286</td>\n",
       "      <td>2.285714</td>\n",
       "      <td>3.500000</td>\n",
       "      <td>3.571429</td>\n",
       "      <td>2.714286</td>\n",
       "      <td>3.357143</td>\n",
       "      <td>1.857143</td>\n",
       "      <td>3.714286</td>\n",
       "    </tr>\n",
       "    <tr>\n",
       "      <th>Other</th>\n",
       "      <td>2.500000</td>\n",
       "      <td>3.000000</td>\n",
       "      <td>3.166667</td>\n",
       "      <td>2.333333</td>\n",
       "      <td>2.833333</td>\n",
       "      <td>3.200000</td>\n",
       "      <td>3.500000</td>\n",
       "      <td>2.000000</td>\n",
       "      <td>3.666667</td>\n",
       "    </tr>\n",
       "  </tbody>\n",
       "</table>\n",
       "</div>"
      ],
      "text/plain": [
       "                          Q6_1      Q6_2      Q6_3      Q6_4      Q6_5  \\\n",
       "Q1                                                                       \n",
       "AI Safety Researcher  1.857143  4.285714  3.571429  2.571429  1.571429   \n",
       "Academic              3.178571  3.290909  2.400000  3.090909  3.272727   \n",
       "Industry              2.928571  3.214286  2.285714  3.500000  3.571429   \n",
       "Other                 2.500000  3.000000  3.166667  2.333333  2.833333   \n",
       "\n",
       "                          Q6_6      Q6_7      Q6_8      Q6_9  \n",
       "Q1                                                            \n",
       "AI Safety Researcher  1.285714  3.714286  2.142857  4.714286  \n",
       "Academic              2.927273  3.345455  2.290909  3.945455  \n",
       "Industry              2.714286  3.357143  1.857143  3.714286  \n",
       "Other                 3.200000  3.500000  2.000000  3.666667  "
      ]
     },
     "execution_count": 23,
     "metadata": {},
     "output_type": "execute_result"
    }
   ],
   "source": [
    "pre_group_means"
   ]
  },
  {
   "cell_type": "code",
   "execution_count": 24,
   "metadata": {},
   "outputs": [
    {
     "name": "stdout",
     "output_type": "stream",
     "text": [
      "Q6_1    1.857143\n",
      "Q6_2    4.285714\n",
      "Q6_3    3.571429\n",
      "Q6_4    2.571429\n",
      "Q6_5    1.571429\n",
      "Q6_6    1.285714\n",
      "Q6_7    3.714286\n",
      "Q6_8    2.142857\n",
      "Q6_9    4.714286\n",
      "Name: AI Safety Researcher, dtype: float64\n"
     ]
    }
   ],
   "source": [
    "print(pre_group_means.iloc[0])"
   ]
  },
  {
   "cell_type": "code",
   "execution_count": 25,
   "metadata": {},
   "outputs": [],
   "source": [
    "pre_means_df = pre_means.to_frame()\n",
    "group_stds_df = group_stds.to_frame()\n",
    "\n",
    "safety_means = pre_group_means.iloc[0]\n",
    "academic_means = pre_group_means.iloc[1]\n",
    "industry_means = pre_group_means.iloc[2]\n",
    "# other_means = pre_group_means.iloc[3]\n"
   ]
  },
  {
   "cell_type": "markdown",
   "metadata": {},
   "source": [
    "# SAME AS THE LAST ONE BUT NOW YOU SPLIT BY GROUP"
   ]
  },
  {
   "cell_type": "code",
   "execution_count": 26,
   "metadata": {},
   "outputs": [],
   "source": [
    "# add the two dataframes together\n",
    "pre_means_df['std'] = group_stds_df[0]\n",
    "pre_means_df['safety researchers'] = safety_means\n",
    "pre_means_df['academic'] = academic_means\n",
    "pre_means_df['industry'] = industry_means\n"
   ]
  },
  {
   "cell_type": "code",
   "execution_count": 27,
   "metadata": {},
   "outputs": [],
   "source": [
    "\n",
    "# rename column 0 to pre-intervention mean\n",
    "pre_means_df.rename(columns={0: 'pre-intervention mean'}, inplace=True)"
   ]
  },
  {
   "cell_type": "code",
   "execution_count": 28,
   "metadata": {},
   "outputs": [
    {
     "data": {
      "text/html": [
       "<div>\n",
       "<style scoped>\n",
       "    .dataframe tbody tr th:only-of-type {\n",
       "        vertical-align: middle;\n",
       "    }\n",
       "\n",
       "    .dataframe tbody tr th {\n",
       "        vertical-align: top;\n",
       "    }\n",
       "\n",
       "    .dataframe thead th {\n",
       "        text-align: right;\n",
       "    }\n",
       "</style>\n",
       "<table border=\"1\" class=\"dataframe\">\n",
       "  <thead>\n",
       "    <tr style=\"text-align: right;\">\n",
       "      <th></th>\n",
       "      <th>pre-intervention mean</th>\n",
       "      <th>std</th>\n",
       "      <th>safety researchers</th>\n",
       "      <th>academic</th>\n",
       "      <th>industry</th>\n",
       "    </tr>\n",
       "  </thead>\n",
       "  <tbody>\n",
       "    <tr>\n",
       "      <th>Q6_1</th>\n",
       "      <td>2.976190</td>\n",
       "      <td>1.307773</td>\n",
       "      <td>1.857143</td>\n",
       "      <td>3.178571</td>\n",
       "      <td>2.928571</td>\n",
       "    </tr>\n",
       "    <tr>\n",
       "      <th>Q6_2</th>\n",
       "      <td>3.337349</td>\n",
       "      <td>1.171585</td>\n",
       "      <td>4.285714</td>\n",
       "      <td>3.290909</td>\n",
       "      <td>3.214286</td>\n",
       "    </tr>\n",
       "    <tr>\n",
       "      <th>Q6_3</th>\n",
       "      <td>2.542169</td>\n",
       "      <td>1.182197</td>\n",
       "      <td>3.571429</td>\n",
       "      <td>2.400000</td>\n",
       "      <td>2.285714</td>\n",
       "    </tr>\n",
       "    <tr>\n",
       "      <th>Q6_4</th>\n",
       "      <td>3.060241</td>\n",
       "      <td>1.074646</td>\n",
       "      <td>2.571429</td>\n",
       "      <td>3.090909</td>\n",
       "      <td>3.500000</td>\n",
       "    </tr>\n",
       "    <tr>\n",
       "      <th>Q6_5</th>\n",
       "      <td>3.132530</td>\n",
       "      <td>1.187034</td>\n",
       "      <td>1.571429</td>\n",
       "      <td>3.272727</td>\n",
       "      <td>3.571429</td>\n",
       "    </tr>\n",
       "    <tr>\n",
       "      <th>Q6_6</th>\n",
       "      <td>2.756098</td>\n",
       "      <td>1.319942</td>\n",
       "      <td>1.285714</td>\n",
       "      <td>2.927273</td>\n",
       "      <td>2.714286</td>\n",
       "    </tr>\n",
       "    <tr>\n",
       "      <th>Q6_7</th>\n",
       "      <td>3.385542</td>\n",
       "      <td>1.033952</td>\n",
       "      <td>3.714286</td>\n",
       "      <td>3.345455</td>\n",
       "      <td>3.357143</td>\n",
       "    </tr>\n",
       "    <tr>\n",
       "      <th>Q6_8</th>\n",
       "      <td>2.168675</td>\n",
       "      <td>1.177215</td>\n",
       "      <td>2.142857</td>\n",
       "      <td>2.290909</td>\n",
       "      <td>1.857143</td>\n",
       "    </tr>\n",
       "    <tr>\n",
       "      <th>Q6_9</th>\n",
       "      <td>3.915663</td>\n",
       "      <td>1.128401</td>\n",
       "      <td>4.714286</td>\n",
       "      <td>3.945455</td>\n",
       "      <td>3.714286</td>\n",
       "    </tr>\n",
       "  </tbody>\n",
       "</table>\n",
       "</div>"
      ],
      "text/plain": [
       "      pre-intervention mean       std  safety researchers  academic  industry\n",
       "Q6_1               2.976190  1.307773            1.857143  3.178571  2.928571\n",
       "Q6_2               3.337349  1.171585            4.285714  3.290909  3.214286\n",
       "Q6_3               2.542169  1.182197            3.571429  2.400000  2.285714\n",
       "Q6_4               3.060241  1.074646            2.571429  3.090909  3.500000\n",
       "Q6_5               3.132530  1.187034            1.571429  3.272727  3.571429\n",
       "Q6_6               2.756098  1.319942            1.285714  2.927273  2.714286\n",
       "Q6_7               3.385542  1.033952            3.714286  3.345455  3.357143\n",
       "Q6_8               2.168675  1.177215            2.142857  2.290909  1.857143\n",
       "Q6_9               3.915663  1.128401            4.714286  3.945455  3.714286"
      ]
     },
     "execution_count": 28,
     "metadata": {},
     "output_type": "execute_result"
    }
   ],
   "source": [
    "pre_means_df"
   ]
  },
  {
   "cell_type": "code",
   "execution_count": 29,
   "metadata": {},
   "outputs": [
    {
     "name": "stdout",
     "output_type": "stream",
     "text": [
      "\\begin{tabular}{lrrrrr}\n",
      "\\toprule\n",
      "{} &  pre-intervention mean &       std &  safety researchers &  academic &  industry \\\\\n",
      "\\midrule\n",
      "Q6\\_1 &               2.976190 &  1.307773 &            1.857143 &  3.178571 &  2.928571 \\\\\n",
      "Q6\\_2 &               3.337349 &  1.171585 &            4.285714 &  3.290909 &  3.214286 \\\\\n",
      "Q6\\_3 &               2.542169 &  1.182197 &            3.571429 &  2.400000 &  2.285714 \\\\\n",
      "Q6\\_4 &               3.060241 &  1.074646 &            2.571429 &  3.090909 &  3.500000 \\\\\n",
      "Q6\\_5 &               3.132530 &  1.187034 &            1.571429 &  3.272727 &  3.571429 \\\\\n",
      "Q6\\_6 &               2.756098 &  1.319942 &            1.285714 &  2.927273 &  2.714286 \\\\\n",
      "Q6\\_7 &               3.385542 &  1.033952 &            3.714286 &  3.345455 &  3.357143 \\\\\n",
      "Q6\\_8 &               2.168675 &  1.177215 &            2.142857 &  2.290909 &  1.857143 \\\\\n",
      "Q6\\_9 &               3.915663 &  1.128401 &            4.714286 &  3.945455 &  3.714286 \\\\\n",
      "\\bottomrule\n",
      "\\end{tabular}\n",
      "\n"
     ]
    }
   ],
   "source": [
    "# print the latex version of the table\n",
    "print(pre_means_df.to_latex())"
   ]
  }
 ],
 "metadata": {
  "kernelspec": {
   "display_name": "base",
   "language": "python",
   "name": "python3"
  },
  "language_info": {
   "codemirror_mode": {
    "name": "ipython",
    "version": 3
   },
   "file_extension": ".py",
   "mimetype": "text/x-python",
   "name": "python",
   "nbconvert_exporter": "python",
   "pygments_lexer": "ipython3",
   "version": "3.8.8"
  }
 },
 "nbformat": 4,
 "nbformat_minor": 2
}
