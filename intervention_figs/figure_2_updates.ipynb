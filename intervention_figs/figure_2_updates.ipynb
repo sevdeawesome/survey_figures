{
 "cells": [
  {
   "cell_type": "markdown",
   "metadata": {},
   "source": [
    "# SAME AS THE LAST ONE BUT NOW YOU SPLIT BY PAPER!"
   ]
  },
  {
   "cell_type": "markdown",
   "metadata": {},
   "source": [
    "# NOTES FOR PAPER:\n",
    "1. separate the different types of beliefs into different sections:\n",
    "* priority, technical, etc.\n",
    "2. Make section of \"statistically significant disagreements\" and \"statistically significant agreements\" between groups: ai safety researchers are the outliers here"
   ]
  },
  {
   "cell_type": "code",
   "execution_count": 1,
   "metadata": {},
   "outputs": [
    {
     "name": "stderr",
     "output_type": "stream",
     "text": [
      "c:\\Users\\sevi\\anaconda3\\lib\\site-packages\\scipy\\__init__.py:138: UserWarning: A NumPy version >=1.16.5 and <1.23.0 is required for this version of SciPy (detected version 1.24.4)\n",
      "  warnings.warn(f\"A NumPy version >={np_minversion} and <{np_maxversion} is required for this version of \"\n"
     ]
    }
   ],
   "source": [
    "import pandas as pd\n",
    "\n",
    "import numpy as np\n",
    "import seaborn as sns\n",
    "import matplotlib.pyplot as plt\n",
    "from utils import *\n",
    "\n",
    "plt.style.use('../style.mplstyle')\n",
    "df = pd.read_csv(\"../latest.csv\")"
   ]
  },
  {
   "cell_type": "code",
   "execution_count": 2,
   "metadata": {},
   "outputs": [],
   "source": []
  },
  {
   "cell_type": "code",
   "execution_count": 2,
   "metadata": {},
   "outputs": [],
   "source": [
    "df = fix_data(df, drop_zeros=False)"
   ]
  },
  {
   "cell_type": "code",
   "execution_count": null,
   "metadata": {},
   "outputs": [],
   "source": []
  },
  {
   "cell_type": "code",
   "execution_count": 3,
   "metadata": {},
   "outputs": [
    {
     "name": "stdout",
     "output_type": "stream",
     "text": [
      "length of df:  106\n",
      "\n",
      "\n"
     ]
    },
    {
     "data": {
      "text/html": [
       "<div>\n",
       "<style scoped>\n",
       "    .dataframe tbody tr th:only-of-type {\n",
       "        vertical-align: middle;\n",
       "    }\n",
       "\n",
       "    .dataframe tbody tr th {\n",
       "        vertical-align: top;\n",
       "    }\n",
       "\n",
       "    .dataframe thead th {\n",
       "        text-align: right;\n",
       "    }\n",
       "</style>\n",
       "<table border=\"1\" class=\"dataframe\">\n",
       "  <thead>\n",
       "    <tr style=\"text-align: right;\">\n",
       "      <th></th>\n",
       "      <th>StartDate</th>\n",
       "      <th>reading</th>\n",
       "      <th>Duration</th>\n",
       "      <th>Progress</th>\n",
       "      <th>Finished</th>\n",
       "      <th>Q42</th>\n",
       "      <th>Q43</th>\n",
       "      <th>Q1</th>\n",
       "      <th>Q1_7_TEXT</th>\n",
       "      <th>Q2</th>\n",
       "      <th>...</th>\n",
       "      <th>Q16_3</th>\n",
       "      <th>Q16_4</th>\n",
       "      <th>Q16_5</th>\n",
       "      <th>Q16_6</th>\n",
       "      <th>Q16_7</th>\n",
       "      <th>Q16_8</th>\n",
       "      <th>Q16_9</th>\n",
       "      <th>Q17</th>\n",
       "      <th>Q18</th>\n",
       "      <th>Q46</th>\n",
       "    </tr>\n",
       "  </thead>\n",
       "  <tbody>\n",
       "    <tr>\n",
       "      <th>0</th>\n",
       "      <td>2024-08-08 23:30:29</td>\n",
       "      <td>7</td>\n",
       "      <td>118</td>\n",
       "      <td>100</td>\n",
       "      <td>True</td>\n",
       "      <td>Agree</td>\n",
       "      <td>LinkedIn DM</td>\n",
       "      <td>Industry</td>\n",
       "      <td>NaN</td>\n",
       "      <td>2.0</td>\n",
       "      <td>...</td>\n",
       "      <td>Somewhat agree</td>\n",
       "      <td>Somewhat agree</td>\n",
       "      <td>Somewhat agree</td>\n",
       "      <td>Somewhat agree</td>\n",
       "      <td>Somewhat agree</td>\n",
       "      <td>Somewhat agree</td>\n",
       "      <td>Somewhat agree</td>\n",
       "      <td>NaN</td>\n",
       "      <td>NaN</td>\n",
       "      <td>NaN</td>\n",
       "    </tr>\n",
       "  </tbody>\n",
       "</table>\n",
       "<p>1 rows × 41 columns</p>\n",
       "</div>"
      ],
      "text/plain": [
       "             StartDate  reading  Duration  Progress  Finished    Q42  \\\n",
       "0  2024-08-08 23:30:29        7       118       100      True  Agree   \n",
       "\n",
       "           Q43        Q1  Q1_7_TEXT   Q2  ...           Q16_3           Q16_4  \\\n",
       "0  LinkedIn DM  Industry        NaN  2.0  ...  Somewhat agree  Somewhat agree   \n",
       "\n",
       "            Q16_5           Q16_6           Q16_7           Q16_8  \\\n",
       "0  Somewhat agree  Somewhat agree  Somewhat agree  Somewhat agree   \n",
       "\n",
       "            Q16_9  Q17  Q18  Q46  \n",
       "0  Somewhat agree  NaN  NaN  NaN  \n",
       "\n",
       "[1 rows x 41 columns]"
      ]
     },
     "execution_count": 3,
     "metadata": {},
     "output_type": "execute_result"
    }
   ],
   "source": [
    "print(\"length of df: \", len(df))\n",
    "print('\\n')\n",
    "df.head(1)"
   ]
  },
  {
   "cell_type": "code",
   "execution_count": 4,
   "metadata": {},
   "outputs": [],
   "source": [
    "\n",
    "import pandas as pd\n",
    "import numpy as np\n",
    "import matplotlib.pyplot as plt\n",
    "import seaborn as sns\n",
    "\n",
    "# Assuming df is your DataFrame\n",
    "# Create lists of pre- and post-reading question columns\n",
    "pre_questions = [f'Q6_{i}' for i in range(1, 10)]\n",
    "post_questions = [f'Q16_{i}' for i in range(1, 10)]\n",
    "\n"
   ]
  },
  {
   "cell_type": "code",
   "execution_count": 5,
   "metadata": {},
   "outputs": [
    {
     "data": {
      "text/plain": [
       "Q6_1                        Q6_2                        Q6_3                        Q6_4                        Q6_5                        Q6_6                        Q6_7                        Q6_8                        Q6_9                      \n",
       "Somewhat agree              Somewhat agree              Somewhat agree              Somewhat agree              Somewhat agree              Somewhat agree              Somewhat agree              Somewhat agree              Somewhat agree                3\n",
       "Neither agree nor disagree  Neither agree nor disagree  Neither agree nor disagree  Neither agree nor disagree  Neither agree nor disagree  Neither agree nor disagree  Neither agree nor disagree  Neither agree nor disagree  Neither agree nor disagree    2\n",
       "Somewhat disagree           Neither agree nor disagree  Somewhat disagree           Neither agree nor disagree  Somewhat disagree           Somewhat disagree           Neither agree nor disagree  strongly disagree           Somewhat agree                1\n",
       "Strongly agree              Somewhat agree              Somewhat disagree           Strongly agree              Strongly agree              Somewhat agree              Somewhat agree              strongly disagree           Somewhat agree                1\n",
       "                            Neither agree nor disagree  strongly disagree           Somewhat agree              Somewhat agree              Neither agree nor disagree  Neither agree nor disagree  Strongly agree              Somewhat agree                1\n",
       "                                                                                                                                                                                                                                                             ..\n",
       "Somewhat agree              Somewhat agree              Somewhat disagree           Neither agree nor disagree  Somewhat disagree           strongly disagree           Neither agree nor disagree  Somewhat disagree           Strongly agree                1\n",
       "                                                        Somewhat agree              strongly disagree           Neither agree nor disagree  Somewhat disagree           Somewhat disagree           Somewhat agree              Strongly agree                1\n",
       "                                                                                    Somewhat agree              Neither agree nor disagree  Neither agree nor disagree  Neither agree nor disagree  strongly disagree           Somewhat agree                1\n",
       "                                                        Neither agree nor disagree  Somewhat disagree           Somewhat agree              Somewhat disagree           Somewhat agree              Somewhat disagree           Somewhat agree                1\n",
       "strongly disagree           strongly disagree           strongly disagree           Somewhat agree              Neither agree nor disagree  Somewhat agree              Strongly agree              strongly disagree           Strongly agree                1\n",
       "Length: 79, dtype: int64"
      ]
     },
     "execution_count": 5,
     "metadata": {},
     "output_type": "execute_result"
    }
   ],
   "source": [
    "df[pre_questions].value_counts()"
   ]
  },
  {
   "cell_type": "code",
   "execution_count": 6,
   "metadata": {},
   "outputs": [],
   "source": [
    "# change the likert scale to numerical\n",
    "swaps = {\n",
    "    \"strongly disagree\": 1,\n",
    "    \"Somewhat disagree\": 2,\n",
    "    \"Neither agree nor disagree\": 3,\n",
    "    \"Somewhat agree\": 4,\n",
    "    \"Strongly agree\": 5,\n",
    "}\n",
    "\n",
    "df[pre_questions] = df[pre_questions].replace(swaps)\n",
    "df[post_questions] = df[post_questions].replace(swaps)"
   ]
  },
  {
   "cell_type": "code",
   "execution_count": 7,
   "metadata": {},
   "outputs": [],
   "source": [
    "\n",
    "# Calculate mean agreement scores for pre- and post-reading\n",
    "pre_means = df[pre_questions].mean()\n",
    "post_means = df[post_questions].mean()"
   ]
  },
  {
   "cell_type": "code",
   "execution_count": 8,
   "metadata": {},
   "outputs": [],
   "source": [
    "reading_swap = {\n",
    "    7: \"control\",\n",
    "    9: \"Russel\",\n",
    "    11: \"Joy\",\n",
    "    13: \"Aschenbrenner\",\n",
    "}"
   ]
  },
  {
   "cell_type": "code",
   "execution_count": 9,
   "metadata": {},
   "outputs": [],
   "source": [
    "df['reading'] = df['reading'].replace(reading_swap)\n",
    "\n",
    "# drop all rows that are 0 in the 'reading' column\n",
    "df = df[df['reading'] != 0]"
   ]
  },
  {
   "cell_type": "code",
   "execution_count": 10,
   "metadata": {},
   "outputs": [],
   "source": [
    "\n",
    "# Calculate group means for pre- and post-reading\n",
    "groups = df['reading'].unique()\n",
    "pre_group_means = df.groupby('reading')[pre_questions].mean()\n",
    "post_group_means = df.groupby('reading')[post_questions].mean()\n"
   ]
  },
  {
   "cell_type": "code",
   "execution_count": 11,
   "metadata": {},
   "outputs": [
    {
     "data": {
      "text/html": [
       "<div>\n",
       "<style scoped>\n",
       "    .dataframe tbody tr th:only-of-type {\n",
       "        vertical-align: middle;\n",
       "    }\n",
       "\n",
       "    .dataframe tbody tr th {\n",
       "        vertical-align: top;\n",
       "    }\n",
       "\n",
       "    .dataframe thead th {\n",
       "        text-align: right;\n",
       "    }\n",
       "</style>\n",
       "<table border=\"1\" class=\"dataframe\">\n",
       "  <thead>\n",
       "    <tr style=\"text-align: right;\">\n",
       "      <th></th>\n",
       "      <th>Q6_1</th>\n",
       "      <th>Q6_2</th>\n",
       "      <th>Q6_3</th>\n",
       "      <th>Q6_4</th>\n",
       "      <th>Q6_5</th>\n",
       "      <th>Q6_6</th>\n",
       "      <th>Q6_7</th>\n",
       "      <th>Q6_8</th>\n",
       "      <th>Q6_9</th>\n",
       "    </tr>\n",
       "    <tr>\n",
       "      <th>reading</th>\n",
       "      <th></th>\n",
       "      <th></th>\n",
       "      <th></th>\n",
       "      <th></th>\n",
       "      <th></th>\n",
       "      <th></th>\n",
       "      <th></th>\n",
       "      <th></th>\n",
       "      <th></th>\n",
       "    </tr>\n",
       "  </thead>\n",
       "  <tbody>\n",
       "    <tr>\n",
       "      <th>Aschenbrenner</th>\n",
       "      <td>2.826087</td>\n",
       "      <td>3.608696</td>\n",
       "      <td>2.434783</td>\n",
       "      <td>2.826087</td>\n",
       "      <td>2.826087</td>\n",
       "      <td>2.217391</td>\n",
       "      <td>3.826087</td>\n",
       "      <td>2.000000</td>\n",
       "      <td>4.086957</td>\n",
       "    </tr>\n",
       "    <tr>\n",
       "      <th>Joy</th>\n",
       "      <td>3.266667</td>\n",
       "      <td>3.214286</td>\n",
       "      <td>2.500000</td>\n",
       "      <td>3.285714</td>\n",
       "      <td>3.428571</td>\n",
       "      <td>2.785714</td>\n",
       "      <td>2.928571</td>\n",
       "      <td>2.142857</td>\n",
       "      <td>3.928571</td>\n",
       "    </tr>\n",
       "    <tr>\n",
       "      <th>Russel</th>\n",
       "      <td>3.000000</td>\n",
       "      <td>3.533333</td>\n",
       "      <td>2.266667</td>\n",
       "      <td>3.066667</td>\n",
       "      <td>3.066667</td>\n",
       "      <td>2.800000</td>\n",
       "      <td>3.066667</td>\n",
       "      <td>2.333333</td>\n",
       "      <td>3.733333</td>\n",
       "    </tr>\n",
       "    <tr>\n",
       "      <th>control</th>\n",
       "      <td>2.846154</td>\n",
       "      <td>3.038462</td>\n",
       "      <td>2.538462</td>\n",
       "      <td>3.115385</td>\n",
       "      <td>3.269231</td>\n",
       "      <td>3.000000</td>\n",
       "      <td>3.423077</td>\n",
       "      <td>2.076923</td>\n",
       "      <td>4.000000</td>\n",
       "    </tr>\n",
       "  </tbody>\n",
       "</table>\n",
       "</div>"
      ],
      "text/plain": [
       "                   Q6_1      Q6_2      Q6_3      Q6_4      Q6_5      Q6_6  \\\n",
       "reading                                                                     \n",
       "Aschenbrenner  2.826087  3.608696  2.434783  2.826087  2.826087  2.217391   \n",
       "Joy            3.266667  3.214286  2.500000  3.285714  3.428571  2.785714   \n",
       "Russel         3.000000  3.533333  2.266667  3.066667  3.066667  2.800000   \n",
       "control        2.846154  3.038462  2.538462  3.115385  3.269231  3.000000   \n",
       "\n",
       "                   Q6_7      Q6_8      Q6_9  \n",
       "reading                                      \n",
       "Aschenbrenner  3.826087  2.000000  4.086957  \n",
       "Joy            2.928571  2.142857  3.928571  \n",
       "Russel         3.066667  2.333333  3.733333  \n",
       "control        3.423077  2.076923  4.000000  "
      ]
     },
     "execution_count": 11,
     "metadata": {},
     "output_type": "execute_result"
    }
   ],
   "source": [
    "pre_group_means"
   ]
  },
  {
   "cell_type": "code",
   "execution_count": 12,
   "metadata": {},
   "outputs": [
    {
     "data": {
      "text/html": [
       "<div>\n",
       "<style scoped>\n",
       "    .dataframe tbody tr th:only-of-type {\n",
       "        vertical-align: middle;\n",
       "    }\n",
       "\n",
       "    .dataframe tbody tr th {\n",
       "        vertical-align: top;\n",
       "    }\n",
       "\n",
       "    .dataframe thead th {\n",
       "        text-align: right;\n",
       "    }\n",
       "</style>\n",
       "<table border=\"1\" class=\"dataframe\">\n",
       "  <thead>\n",
       "    <tr style=\"text-align: right;\">\n",
       "      <th></th>\n",
       "      <th>Q16_1</th>\n",
       "      <th>Q16_2</th>\n",
       "      <th>Q16_3</th>\n",
       "      <th>Q16_4</th>\n",
       "      <th>Q16_5</th>\n",
       "      <th>Q16_6</th>\n",
       "      <th>Q16_7</th>\n",
       "      <th>Q16_8</th>\n",
       "      <th>Q16_9</th>\n",
       "    </tr>\n",
       "    <tr>\n",
       "      <th>reading</th>\n",
       "      <th></th>\n",
       "      <th></th>\n",
       "      <th></th>\n",
       "      <th></th>\n",
       "      <th></th>\n",
       "      <th></th>\n",
       "      <th></th>\n",
       "      <th></th>\n",
       "      <th></th>\n",
       "    </tr>\n",
       "  </thead>\n",
       "  <tbody>\n",
       "    <tr>\n",
       "      <th>Aschenbrenner</th>\n",
       "      <td>3.176471</td>\n",
       "      <td>3.411765</td>\n",
       "      <td>2.294118</td>\n",
       "      <td>3.176471</td>\n",
       "      <td>2.941176</td>\n",
       "      <td>2.470588</td>\n",
       "      <td>3.235294</td>\n",
       "      <td>2.000000</td>\n",
       "      <td>4.235294</td>\n",
       "    </tr>\n",
       "    <tr>\n",
       "      <th>Joy</th>\n",
       "      <td>3.000000</td>\n",
       "      <td>3.272727</td>\n",
       "      <td>2.454545</td>\n",
       "      <td>2.909091</td>\n",
       "      <td>3.363636</td>\n",
       "      <td>2.818182</td>\n",
       "      <td>2.909091</td>\n",
       "      <td>2.272727</td>\n",
       "      <td>3.818182</td>\n",
       "    </tr>\n",
       "    <tr>\n",
       "      <th>Russel</th>\n",
       "      <td>2.700000</td>\n",
       "      <td>3.000000</td>\n",
       "      <td>2.111111</td>\n",
       "      <td>3.111111</td>\n",
       "      <td>3.000000</td>\n",
       "      <td>2.555556</td>\n",
       "      <td>3.111111</td>\n",
       "      <td>2.000000</td>\n",
       "      <td>3.777778</td>\n",
       "    </tr>\n",
       "    <tr>\n",
       "      <th>control</th>\n",
       "      <td>2.695652</td>\n",
       "      <td>3.043478</td>\n",
       "      <td>2.956522</td>\n",
       "      <td>2.956522</td>\n",
       "      <td>3.130435</td>\n",
       "      <td>2.608696</td>\n",
       "      <td>3.391304</td>\n",
       "      <td>2.173913</td>\n",
       "      <td>4.130435</td>\n",
       "    </tr>\n",
       "  </tbody>\n",
       "</table>\n",
       "</div>"
      ],
      "text/plain": [
       "                  Q16_1     Q16_2     Q16_3     Q16_4     Q16_5     Q16_6  \\\n",
       "reading                                                                     \n",
       "Aschenbrenner  3.176471  3.411765  2.294118  3.176471  2.941176  2.470588   \n",
       "Joy            3.000000  3.272727  2.454545  2.909091  3.363636  2.818182   \n",
       "Russel         2.700000  3.000000  2.111111  3.111111  3.000000  2.555556   \n",
       "control        2.695652  3.043478  2.956522  2.956522  3.130435  2.608696   \n",
       "\n",
       "                  Q16_7     Q16_8     Q16_9  \n",
       "reading                                      \n",
       "Aschenbrenner  3.235294  2.000000  4.235294  \n",
       "Joy            2.909091  2.272727  3.818182  \n",
       "Russel         3.111111  2.000000  3.777778  \n",
       "control        3.391304  2.173913  4.130435  "
      ]
     },
     "execution_count": 12,
     "metadata": {},
     "output_type": "execute_result"
    }
   ],
   "source": [
    "post_group_means"
   ]
  },
  {
   "cell_type": "code",
   "execution_count": 13,
   "metadata": {},
   "outputs": [
    {
     "data": {
      "text/plain": [
       "['S1', 'S2', 'S3', 'S4', 'S5', 'S6', 'S7', 'S8', 'S9']"
      ]
     },
     "execution_count": 13,
     "metadata": {},
     "output_type": "execute_result"
    }
   ],
   "source": [
    "[f'S{i}' for i in range(1, 10)]"
   ]
  },
  {
   "cell_type": "code",
   "execution_count": 14,
   "metadata": {},
   "outputs": [
    {
     "data": {
      "text/plain": [
       "Q6_1    2.976190\n",
       "Q6_2    3.337349\n",
       "Q6_3    2.542169\n",
       "Q6_4    3.060241\n",
       "Q6_5    3.132530\n",
       "Q6_6    2.756098\n",
       "Q6_7    3.385542\n",
       "Q6_8    2.168675\n",
       "Q6_9    3.915663\n",
       "dtype: float64"
      ]
     },
     "execution_count": 14,
     "metadata": {},
     "output_type": "execute_result"
    }
   ],
   "source": [
    "pre_means"
   ]
  },
  {
   "cell_type": "code",
   "execution_count": 15,
   "metadata": {},
   "outputs": [
    {
     "data": {
      "text/html": [
       "<div>\n",
       "<style scoped>\n",
       "    .dataframe tbody tr th:only-of-type {\n",
       "        vertical-align: middle;\n",
       "    }\n",
       "\n",
       "    .dataframe tbody tr th {\n",
       "        vertical-align: top;\n",
       "    }\n",
       "\n",
       "    .dataframe thead th {\n",
       "        text-align: right;\n",
       "    }\n",
       "</style>\n",
       "<table border=\"1\" class=\"dataframe\">\n",
       "  <thead>\n",
       "    <tr style=\"text-align: right;\">\n",
       "      <th></th>\n",
       "      <th>Q16_1</th>\n",
       "      <th>Q16_2</th>\n",
       "      <th>Q16_3</th>\n",
       "      <th>Q16_4</th>\n",
       "      <th>Q16_5</th>\n",
       "      <th>Q16_6</th>\n",
       "      <th>Q16_7</th>\n",
       "      <th>Q16_8</th>\n",
       "      <th>Q16_9</th>\n",
       "    </tr>\n",
       "    <tr>\n",
       "      <th>reading</th>\n",
       "      <th></th>\n",
       "      <th></th>\n",
       "      <th></th>\n",
       "      <th></th>\n",
       "      <th></th>\n",
       "      <th></th>\n",
       "      <th></th>\n",
       "      <th></th>\n",
       "      <th></th>\n",
       "    </tr>\n",
       "  </thead>\n",
       "  <tbody>\n",
       "    <tr>\n",
       "      <th>Aschenbrenner</th>\n",
       "      <td>3.176471</td>\n",
       "      <td>3.411765</td>\n",
       "      <td>2.294118</td>\n",
       "      <td>3.176471</td>\n",
       "      <td>2.941176</td>\n",
       "      <td>2.470588</td>\n",
       "      <td>3.235294</td>\n",
       "      <td>2.000000</td>\n",
       "      <td>4.235294</td>\n",
       "    </tr>\n",
       "    <tr>\n",
       "      <th>Joy</th>\n",
       "      <td>3.000000</td>\n",
       "      <td>3.272727</td>\n",
       "      <td>2.454545</td>\n",
       "      <td>2.909091</td>\n",
       "      <td>3.363636</td>\n",
       "      <td>2.818182</td>\n",
       "      <td>2.909091</td>\n",
       "      <td>2.272727</td>\n",
       "      <td>3.818182</td>\n",
       "    </tr>\n",
       "    <tr>\n",
       "      <th>Russel</th>\n",
       "      <td>2.700000</td>\n",
       "      <td>3.000000</td>\n",
       "      <td>2.111111</td>\n",
       "      <td>3.111111</td>\n",
       "      <td>3.000000</td>\n",
       "      <td>2.555556</td>\n",
       "      <td>3.111111</td>\n",
       "      <td>2.000000</td>\n",
       "      <td>3.777778</td>\n",
       "    </tr>\n",
       "    <tr>\n",
       "      <th>control</th>\n",
       "      <td>2.695652</td>\n",
       "      <td>3.043478</td>\n",
       "      <td>2.956522</td>\n",
       "      <td>2.956522</td>\n",
       "      <td>3.130435</td>\n",
       "      <td>2.608696</td>\n",
       "      <td>3.391304</td>\n",
       "      <td>2.173913</td>\n",
       "      <td>4.130435</td>\n",
       "    </tr>\n",
       "  </tbody>\n",
       "</table>\n",
       "</div>"
      ],
      "text/plain": [
       "                  Q16_1     Q16_2     Q16_3     Q16_4     Q16_5     Q16_6  \\\n",
       "reading                                                                     \n",
       "Aschenbrenner  3.176471  3.411765  2.294118  3.176471  2.941176  2.470588   \n",
       "Joy            3.000000  3.272727  2.454545  2.909091  3.363636  2.818182   \n",
       "Russel         2.700000  3.000000  2.111111  3.111111  3.000000  2.555556   \n",
       "control        2.695652  3.043478  2.956522  2.956522  3.130435  2.608696   \n",
       "\n",
       "                  Q16_7     Q16_8     Q16_9  \n",
       "reading                                      \n",
       "Aschenbrenner  3.235294  2.000000  4.235294  \n",
       "Joy            2.909091  2.272727  3.818182  \n",
       "Russel         3.111111  2.000000  3.777778  \n",
       "control        3.391304  2.173913  4.130435  "
      ]
     },
     "execution_count": 15,
     "metadata": {},
     "output_type": "execute_result"
    }
   ],
   "source": [
    "post_group_means"
   ]
  },
  {
   "cell_type": "code",
   "execution_count": 16,
   "metadata": {},
   "outputs": [],
   "source": [
    "import matplotlib.pyplot as plt\n",
    "import seaborn as sns\n",
    "import pandas as pd\n",
    "import numpy as np\n",
    "\n",
    "# Assuming pre_means and post_group_means are already defined as shown in the images\n",
    "\n",
    "# Set up the plot style\n",
    "# plt.style.use('seaborn')\n",
    "# plt.rcParams['font.family'] = 'serif'\n",
    "# plt.rcParams['xtick.labelsize'] = 'x-small'\n",
    "# plt.rcParams['ytick.labelsize'] = 'x-small'\n",
    "\n"
   ]
  },
  {
   "cell_type": "code",
   "execution_count": 17,
   "metadata": {},
   "outputs": [],
   "source": [
    "statements = {\n",
    "1: \"AGI is too far away to be worth worrying about\",\n",
    "2: \"Some AI's (now or in the future) may be moral patients, with their own welfare that we should care about\",\n",
    "3: \"Existing ML paradigms can produce AGI\",\n",
    "4: \"Future AI's will be tools without their own goals or drives\",\n",
    "5: \"Catastrophic risks from advanced AI are generally overstated\",\n",
    "6: \"We can always just turn off our AI's if they behave badly\",\n",
    "7: \"Self-preservation and control drives will spontaneously emerge in sufficiently advanced AI's\",\n",
    "8: \"Safety work often slows important progress and wastes time\",\n",
    "9: \"technical AI researchers should be concerned about catastrophic risks\"\n",
    "}"
   ]
  },
  {
   "cell_type": "code",
   "execution_count": 32,
   "metadata": {},
   "outputs": [],
   "source": [
    "\n",
    "def plot_agreement_levels(questions_to_include, figure_size=(15, 9), pre_means=None, pre_group_means=None, post_group_means=None, title=None, use_full_statements=False, save=False, save_path=\"figs/latest.png\"):\n",
    "    fig, ax = plt.subplots(figsize=figure_size)\n",
    "\n",
    "    x = range(1, len(questions_to_include) + 1)\n",
    "    bar_width = 0.6\n",
    "    \n",
    "    # Filter pre_means for selected questions\n",
    "    selected_pre_means = [pre_means[i-1] for i in questions_to_include]\n",
    "    bars = ax.bar(x, selected_pre_means, color='lightblue', alpha=0.7, width=bar_width)\n",
    "\n",
    "    # Define color palette explicitly\n",
    "    groups = ['control', 'Russel', 'Joy', 'Aschenbrenner']\n",
    "    colors = sns.color_palette(\"husl\", n_colors=len(groups))\n",
    "\n",
    "    # Calculate offsets for spreading out the points\n",
    "    num_groups = len(groups)\n",
    "    offsets = np.linspace(-bar_width/2 + bar_width/(num_groups*2), \n",
    "                          bar_width/2 - bar_width/(num_groups*2), \n",
    "                          num_groups)\n",
    "\n",
    "    # Plot group means as scatter points with arrows\n",
    "    for i, group in enumerate(groups):\n",
    "        pre_group_means_row = pre_group_means.loc[group, [f'Q6_{q}' for q in questions_to_include]]\n",
    "        post_group_means_row = post_group_means.loc[group, [f'Q16_{q}' for q in questions_to_include]]\n",
    "        \n",
    "        for j, q in enumerate(questions_to_include):\n",
    "            x_pos = x[j] + offsets[i]\n",
    "            ax.scatter(x_pos, pre_group_means_row[j], color=colors[i], s=50, zorder=3)\n",
    "            dx = 0  # No horizontal change\n",
    "            dy = post_group_means_row[j] - pre_group_means_row[j]\n",
    "            ax.arrow(x_pos, pre_group_means_row[j], dx, dy, color=colors[i], \n",
    "                     width=0.005, head_width=0.05, head_length=0.05, \n",
    "                     zorder=2, length_includes_head=True)\n",
    "\n",
    "    # Customize the plot\n",
    "    ax.set_ylabel('Agreement Level', fontsize='medium')\n",
    "    ax.set_xlabel('Statements', fontsize='medium')\n",
    "    ax.set_title(title, fontsize='large')\n",
    "    ax.set_xticks(x)\n",
    "    if use_full_statements:\n",
    "        ax.set_xticklabels([statements[i] for i in questions_to_include], rotation=45, ha='right')\n",
    "    else:\n",
    "        ax.set_xticklabels([f'S{i}' for i in questions_to_include])\n",
    "\n",
    "    # Create legend with correct colors\n",
    "    legend_elements = [plt.Line2D([0], [0], marker='o', color='w', label=group, \n",
    "                       markerfacecolor=color, markersize=10) \n",
    "                       for group, color in zip(groups, colors)]\n",
    "    ax.legend(handles=legend_elements, title='Groups', fontsize='x-small', title_fontsize='small')\n",
    "\n",
    "    # Set y-axis limits to accommodate arrows\n",
    "    selected_pre_group_means = pre_group_means[[f'Q6_{q}' for q in questions_to_include]]\n",
    "    selected_post_group_means = post_group_means[[f'Q16_{q}' for q in questions_to_include]]\n",
    "    # y_min = min(selected_pre_group_means.min().min(), selected_post_group_means.min().min()) - 0.5\n",
    "    # y_max = max(selected_pre_group_means.max().max(), selected_post_group_means.max().max()) + 0.5\n",
    "    # ax.set_ylim(y_min, y_max)\n",
    "    ax.set_ylim(1, 5)\n",
    "\n",
    "    plt.tight_layout()\n",
    "    if save:\n",
    "        plt.savefig(save_path)\n",
    "    plt.show()\n"
   ]
  },
  {
   "cell_type": "code",
   "execution_count": 33,
   "metadata": {},
   "outputs": [
    {
     "data": {
      "image/png": "[encoded data removed]",
      "text/plain": [
       "<Figure size 1080x648 with 1 Axes>"
      ]
     },
     "metadata": {
      "needs_background": "light"
     },
     "output_type": "display_data"
    }
   ],
   "source": [
    "plot_agreement_levels([1, 2, 3, 4, 5, 6, 7, 8, 9], pre_means=pre_means, pre_group_means=pre_group_means, post_group_means=post_group_means, title='Agreement Levels and Changes From Different Interventions')"
   ]
  },
  {
   "cell_type": "code",
   "execution_count": 34,
   "metadata": {},
   "outputs": [
    {
     "data": {
      "text/plain": [
       "Q6_1    2.976190\n",
       "Q6_2    3.337349\n",
       "Q6_3    2.542169\n",
       "Q6_4    3.060241\n",
       "Q6_5    3.132530\n",
       "Q6_6    2.756098\n",
       "Q6_7    3.385542\n",
       "Q6_8    2.168675\n",
       "Q6_9    3.915663\n",
       "dtype: float64"
      ]
     },
     "execution_count": 34,
     "metadata": {},
     "output_type": "execute_result"
    }
   ],
   "source": [
    "pre_means"
   ]
  },
  {
   "cell_type": "code",
   "execution_count": 35,
   "metadata": {},
   "outputs": [],
   "source": [
    "priority = [1, 5, 9]\n",
    "technical = [3,4,6,7]\n",
    "other = [2,8]"
   ]
  },
  {
   "cell_type": "code",
   "execution_count": 41,
   "metadata": {},
   "outputs": [
    {
     "data": {
      "image/png": "[encoded data removed]",
      "text/plain": [
       "<Figure size 432x432 with 1 Axes>"
      ]
     },
     "metadata": {
      "needs_background": "light"
     },
     "output_type": "display_data"
    }
   ],
   "source": [
    "plot_agreement_levels(priority, figure_size=(6,6), pre_means=pre_means, pre_group_means=pre_group_means, post_group_means=post_group_means, title='AI-as-a-Priority Belief Changes', use_full_statements=False, save=True, save_path='figs/priority.pdf')"
   ]
  },
  {
   "cell_type": "code",
   "execution_count": 38,
   "metadata": {},
   "outputs": [
    {
     "data": {
      "image/png": "[encoded data removed]",
      "text/plain": [
       "<Figure size 1080x1080 with 1 Axes>"
      ]
     },
     "metadata": {
      "needs_background": "light"
     },
     "output_type": "display_data"
    }
   ],
   "source": [
    "plot_agreement_levels(technical, figure_size=(15,15), pre_means=pre_means, pre_group_means=pre_group_means, post_group_means=post_group_means, title='Technical Belief Levels and Changes From Different Interventions', use_full_statements=False, save=True, save_path='figs/technical.pdf')"
   ]
  },
  {
   "cell_type": "code",
   "execution_count": 39,
   "metadata": {},
   "outputs": [
    {
     "data": {
      "image/png": "[encoded data removed]",
      "text/plain": [
       "<Figure size 1080x1080 with 1 Axes>"
      ]
     },
     "metadata": {
      "needs_background": "light"
     },
     "output_type": "display_data"
    }
   ],
   "source": [
    "plot_agreement_levels(other, figure_size=(15,15), pre_means=pre_means, pre_group_means=pre_group_means, post_group_means=post_group_means, title='Other Belief Levels and Changes From Different Interventions', use_full_statements=False, save=True, save_path='figs/other.pdf')"
   ]
  },
  {
   "cell_type": "markdown",
   "metadata": {},
   "source": [
    "# STANDARD DEVIATION"
   ]
  },
  {
   "cell_type": "code",
   "execution_count": null,
   "metadata": {},
   "outputs": [],
   "source": []
  },
  {
   "cell_type": "code",
   "execution_count": 25,
   "metadata": {},
   "outputs": [
    {
     "ename": "KeyError",
     "evalue": "'AI Safety Researcher'",
     "output_type": "error",
     "traceback": [
      "\u001b[1;31m---------------------------------------------------------------------------\u001b[0m",
      "\u001b[1;31mKeyError\u001b[0m                                  Traceback (most recent call last)",
      "\u001b[1;32mc:\\Users\\sevi\\anaconda3\\lib\\site-packages\\pandas\\core\\indexes\\base.py\u001b[0m in \u001b[0;36mget_loc\u001b[1;34m(self, key, method, tolerance)\u001b[0m\n\u001b[0;32m   3079\u001b[0m             \u001b[1;32mtry\u001b[0m\u001b[1;33m:\u001b[0m\u001b[1;33m\u001b[0m\u001b[1;33m\u001b[0m\u001b[0m\n\u001b[1;32m-> 3080\u001b[1;33m                 \u001b[1;32mreturn\u001b[0m \u001b[0mself\u001b[0m\u001b[1;33m.\u001b[0m\u001b[0m_engine\u001b[0m\u001b[1;33m.\u001b[0m\u001b[0mget_loc\u001b[0m\u001b[1;33m(\u001b[0m\u001b[0mcasted_key\u001b[0m\u001b[1;33m)\u001b[0m\u001b[1;33m\u001b[0m\u001b[1;33m\u001b[0m\u001b[0m\n\u001b[0m\u001b[0;32m   3081\u001b[0m             \u001b[1;32mexcept\u001b[0m \u001b[0mKeyError\u001b[0m \u001b[1;32mas\u001b[0m \u001b[0merr\u001b[0m\u001b[1;33m:\u001b[0m\u001b[1;33m\u001b[0m\u001b[1;33m\u001b[0m\u001b[0m\n",
      "\u001b[1;32mpandas\\_libs\\index.pyx\u001b[0m in \u001b[0;36mpandas._libs.index.IndexEngine.get_loc\u001b[1;34m()\u001b[0m\n",
      "\u001b[1;32mpandas\\_libs\\index.pyx\u001b[0m in \u001b[0;36mpandas._libs.index.IndexEngine.get_loc\u001b[1;34m()\u001b[0m\n",
      "\u001b[1;32mpandas\\_libs\\hashtable_class_helper.pxi\u001b[0m in \u001b[0;36mpandas._libs.hashtable.PyObjectHashTable.get_item\u001b[1;34m()\u001b[0m\n",
      "\u001b[1;32mpandas\\_libs\\hashtable_class_helper.pxi\u001b[0m in \u001b[0;36mpandas._libs.hashtable.PyObjectHashTable.get_item\u001b[1;34m()\u001b[0m\n",
      "\u001b[1;31mKeyError\u001b[0m: 'AI Safety Researcher'",
      "\nThe above exception was the direct cause of the following exception:\n",
      "\u001b[1;31mKeyError\u001b[0m                                  Traceback (most recent call last)",
      "\u001b[1;32m<ipython-input-25-274317a79f3f>\u001b[0m in \u001b[0;36m<module>\u001b[1;34m\u001b[0m\n\u001b[0;32m     28\u001b[0m \u001b[1;31m# Plot group means as scatter points with error bars\u001b[0m\u001b[1;33m\u001b[0m\u001b[1;33m\u001b[0m\u001b[1;33m\u001b[0m\u001b[0m\n\u001b[0;32m     29\u001b[0m \u001b[1;32mfor\u001b[0m \u001b[0mi\u001b[0m\u001b[1;33m,\u001b[0m \u001b[0mgroup\u001b[0m \u001b[1;32min\u001b[0m \u001b[0menumerate\u001b[0m\u001b[1;33m(\u001b[0m\u001b[0mgroups\u001b[0m\u001b[1;33m)\u001b[0m\u001b[1;33m:\u001b[0m\u001b[1;33m\u001b[0m\u001b[1;33m\u001b[0m\u001b[0m\n\u001b[1;32m---> 30\u001b[1;33m     \u001b[0mpre_group_means_row\u001b[0m \u001b[1;33m=\u001b[0m \u001b[0mpre_group_means\u001b[0m\u001b[1;33m.\u001b[0m\u001b[0mloc\u001b[0m\u001b[1;33m[\u001b[0m\u001b[0mgroup\u001b[0m\u001b[1;33m,\u001b[0m \u001b[1;33m[\u001b[0m\u001b[1;34m'Q6_1'\u001b[0m\u001b[1;33m,\u001b[0m \u001b[1;34m'Q6_2'\u001b[0m\u001b[1;33m,\u001b[0m \u001b[1;34m'Q6_3'\u001b[0m\u001b[1;33m,\u001b[0m \u001b[1;34m'Q6_4'\u001b[0m\u001b[1;33m,\u001b[0m \u001b[1;34m'Q6_5'\u001b[0m\u001b[1;33m,\u001b[0m \u001b[1;34m'Q6_6'\u001b[0m\u001b[1;33m,\u001b[0m \u001b[1;34m'Q6_7'\u001b[0m\u001b[1;33m,\u001b[0m \u001b[1;34m'Q6_8'\u001b[0m\u001b[1;33m,\u001b[0m \u001b[1;34m'Q6_9'\u001b[0m\u001b[1;33m]\u001b[0m\u001b[1;33m]\u001b[0m\u001b[1;33m\u001b[0m\u001b[1;33m\u001b[0m\u001b[0m\n\u001b[0m\u001b[0;32m     31\u001b[0m \u001b[1;33m\u001b[0m\u001b[0m\n\u001b[0;32m     32\u001b[0m     \u001b[1;31m# Calculate standard deviations for this group\u001b[0m\u001b[1;33m\u001b[0m\u001b[1;33m\u001b[0m\u001b[1;33m\u001b[0m\u001b[0m\n",
      "\u001b[1;32mc:\\Users\\sevi\\anaconda3\\lib\\site-packages\\pandas\\core\\indexing.py\u001b[0m in \u001b[0;36m__getitem__\u001b[1;34m(self, key)\u001b[0m\n\u001b[0;32m    887\u001b[0m                     \u001b[1;31m# AttributeError for IntervalTree get_value\u001b[0m\u001b[1;33m\u001b[0m\u001b[1;33m\u001b[0m\u001b[1;33m\u001b[0m\u001b[0m\n\u001b[0;32m    888\u001b[0m                     \u001b[1;32mreturn\u001b[0m \u001b[0mself\u001b[0m\u001b[1;33m.\u001b[0m\u001b[0mobj\u001b[0m\u001b[1;33m.\u001b[0m\u001b[0m_get_value\u001b[0m\u001b[1;33m(\u001b[0m\u001b[1;33m*\u001b[0m\u001b[0mkey\u001b[0m\u001b[1;33m,\u001b[0m \u001b[0mtakeable\u001b[0m\u001b[1;33m=\u001b[0m\u001b[0mself\u001b[0m\u001b[1;33m.\u001b[0m\u001b[0m_takeable\u001b[0m\u001b[1;33m)\u001b[0m\u001b[1;33m\u001b[0m\u001b[1;33m\u001b[0m\u001b[0m\n\u001b[1;32m--> 889\u001b[1;33m             \u001b[1;32mreturn\u001b[0m \u001b[0mself\u001b[0m\u001b[1;33m.\u001b[0m\u001b[0m_getitem_tuple\u001b[0m\u001b[1;33m(\u001b[0m\u001b[0mkey\u001b[0m\u001b[1;33m)\u001b[0m\u001b[1;33m\u001b[0m\u001b[1;33m\u001b[0m\u001b[0m\n\u001b[0m\u001b[0;32m    890\u001b[0m         \u001b[1;32melse\u001b[0m\u001b[1;33m:\u001b[0m\u001b[1;33m\u001b[0m\u001b[1;33m\u001b[0m\u001b[0m\n\u001b[0;32m    891\u001b[0m             \u001b[1;31m# we by definition only have the 0th axis\u001b[0m\u001b[1;33m\u001b[0m\u001b[1;33m\u001b[0m\u001b[1;33m\u001b[0m\u001b[0m\n",
      "\u001b[1;32mc:\\Users\\sevi\\anaconda3\\lib\\site-packages\\pandas\\core\\indexing.py\u001b[0m in \u001b[0;36m_getitem_tuple\u001b[1;34m(self, tup)\u001b[0m\n\u001b[0;32m   1058\u001b[0m     \u001b[1;32mdef\u001b[0m \u001b[0m_getitem_tuple\u001b[0m\u001b[1;33m(\u001b[0m\u001b[0mself\u001b[0m\u001b[1;33m,\u001b[0m \u001b[0mtup\u001b[0m\u001b[1;33m:\u001b[0m \u001b[0mTuple\u001b[0m\u001b[1;33m)\u001b[0m\u001b[1;33m:\u001b[0m\u001b[1;33m\u001b[0m\u001b[1;33m\u001b[0m\u001b[0m\n\u001b[0;32m   1059\u001b[0m         \u001b[1;32mwith\u001b[0m \u001b[0msuppress\u001b[0m\u001b[1;33m(\u001b[0m\u001b[0mIndexingError\u001b[0m\u001b[1;33m)\u001b[0m\u001b[1;33m:\u001b[0m\u001b[1;33m\u001b[0m\u001b[1;33m\u001b[0m\u001b[0m\n\u001b[1;32m-> 1060\u001b[1;33m             \u001b[1;32mreturn\u001b[0m \u001b[0mself\u001b[0m\u001b[1;33m.\u001b[0m\u001b[0m_getitem_lowerdim\u001b[0m\u001b[1;33m(\u001b[0m\u001b[0mtup\u001b[0m\u001b[1;33m)\u001b[0m\u001b[1;33m\u001b[0m\u001b[1;33m\u001b[0m\u001b[0m\n\u001b[0m\u001b[0;32m   1061\u001b[0m \u001b[1;33m\u001b[0m\u001b[0m\n\u001b[0;32m   1062\u001b[0m         \u001b[1;31m# no multi-index, so validate all of the indexers\u001b[0m\u001b[1;33m\u001b[0m\u001b[1;33m\u001b[0m\u001b[1;33m\u001b[0m\u001b[0m\n",
      "\u001b[1;32mc:\\Users\\sevi\\anaconda3\\lib\\site-packages\\pandas\\core\\indexing.py\u001b[0m in \u001b[0;36m_getitem_lowerdim\u001b[1;34m(self, tup)\u001b[0m\n\u001b[0;32m    805\u001b[0m                 \u001b[1;31m# We don't need to check for tuples here because those are\u001b[0m\u001b[1;33m\u001b[0m\u001b[1;33m\u001b[0m\u001b[1;33m\u001b[0m\u001b[0m\n\u001b[0;32m    806\u001b[0m                 \u001b[1;31m#  caught by the _is_nested_tuple_indexer check above.\u001b[0m\u001b[1;33m\u001b[0m\u001b[1;33m\u001b[0m\u001b[1;33m\u001b[0m\u001b[0m\n\u001b[1;32m--> 807\u001b[1;33m                 \u001b[0msection\u001b[0m \u001b[1;33m=\u001b[0m \u001b[0mself\u001b[0m\u001b[1;33m.\u001b[0m\u001b[0m_getitem_axis\u001b[0m\u001b[1;33m(\u001b[0m\u001b[0mkey\u001b[0m\u001b[1;33m,\u001b[0m \u001b[0maxis\u001b[0m\u001b[1;33m=\u001b[0m\u001b[0mi\u001b[0m\u001b[1;33m)\u001b[0m\u001b[1;33m\u001b[0m\u001b[1;33m\u001b[0m\u001b[0m\n\u001b[0m\u001b[0;32m    808\u001b[0m \u001b[1;33m\u001b[0m\u001b[0m\n\u001b[0;32m    809\u001b[0m                 \u001b[1;31m# We should never have a scalar section here, because\u001b[0m\u001b[1;33m\u001b[0m\u001b[1;33m\u001b[0m\u001b[1;33m\u001b[0m\u001b[0m\n",
      "\u001b[1;32mc:\\Users\\sevi\\anaconda3\\lib\\site-packages\\pandas\\core\\indexing.py\u001b[0m in \u001b[0;36m_getitem_axis\u001b[1;34m(self, key, axis)\u001b[0m\n\u001b[0;32m   1122\u001b[0m         \u001b[1;31m# fall thru to straight lookup\u001b[0m\u001b[1;33m\u001b[0m\u001b[1;33m\u001b[0m\u001b[1;33m\u001b[0m\u001b[0m\n\u001b[0;32m   1123\u001b[0m         \u001b[0mself\u001b[0m\u001b[1;33m.\u001b[0m\u001b[0m_validate_key\u001b[0m\u001b[1;33m(\u001b[0m\u001b[0mkey\u001b[0m\u001b[1;33m,\u001b[0m \u001b[0maxis\u001b[0m\u001b[1;33m)\u001b[0m\u001b[1;33m\u001b[0m\u001b[1;33m\u001b[0m\u001b[0m\n\u001b[1;32m-> 1124\u001b[1;33m         \u001b[1;32mreturn\u001b[0m \u001b[0mself\u001b[0m\u001b[1;33m.\u001b[0m\u001b[0m_get_label\u001b[0m\u001b[1;33m(\u001b[0m\u001b[0mkey\u001b[0m\u001b[1;33m,\u001b[0m \u001b[0maxis\u001b[0m\u001b[1;33m=\u001b[0m\u001b[0maxis\u001b[0m\u001b[1;33m)\u001b[0m\u001b[1;33m\u001b[0m\u001b[1;33m\u001b[0m\u001b[0m\n\u001b[0m\u001b[0;32m   1125\u001b[0m \u001b[1;33m\u001b[0m\u001b[0m\n\u001b[0;32m   1126\u001b[0m     \u001b[1;32mdef\u001b[0m \u001b[0m_get_slice_axis\u001b[0m\u001b[1;33m(\u001b[0m\u001b[0mself\u001b[0m\u001b[1;33m,\u001b[0m \u001b[0mslice_obj\u001b[0m\u001b[1;33m:\u001b[0m \u001b[0mslice\u001b[0m\u001b[1;33m,\u001b[0m \u001b[0maxis\u001b[0m\u001b[1;33m:\u001b[0m \u001b[0mint\u001b[0m\u001b[1;33m)\u001b[0m\u001b[1;33m:\u001b[0m\u001b[1;33m\u001b[0m\u001b[1;33m\u001b[0m\u001b[0m\n",
      "\u001b[1;32mc:\\Users\\sevi\\anaconda3\\lib\\site-packages\\pandas\\core\\indexing.py\u001b[0m in \u001b[0;36m_get_label\u001b[1;34m(self, label, axis)\u001b[0m\n\u001b[0;32m   1071\u001b[0m     \u001b[1;32mdef\u001b[0m \u001b[0m_get_label\u001b[0m\u001b[1;33m(\u001b[0m\u001b[0mself\u001b[0m\u001b[1;33m,\u001b[0m \u001b[0mlabel\u001b[0m\u001b[1;33m,\u001b[0m \u001b[0maxis\u001b[0m\u001b[1;33m:\u001b[0m \u001b[0mint\u001b[0m\u001b[1;33m)\u001b[0m\u001b[1;33m:\u001b[0m\u001b[1;33m\u001b[0m\u001b[1;33m\u001b[0m\u001b[0m\n\u001b[0;32m   1072\u001b[0m         \u001b[1;31m# GH#5667 this will fail if the label is not present in the axis.\u001b[0m\u001b[1;33m\u001b[0m\u001b[1;33m\u001b[0m\u001b[1;33m\u001b[0m\u001b[0m\n\u001b[1;32m-> 1073\u001b[1;33m         \u001b[1;32mreturn\u001b[0m \u001b[0mself\u001b[0m\u001b[1;33m.\u001b[0m\u001b[0mobj\u001b[0m\u001b[1;33m.\u001b[0m\u001b[0mxs\u001b[0m\u001b[1;33m(\u001b[0m\u001b[0mlabel\u001b[0m\u001b[1;33m,\u001b[0m \u001b[0maxis\u001b[0m\u001b[1;33m=\u001b[0m\u001b[0maxis\u001b[0m\u001b[1;33m)\u001b[0m\u001b[1;33m\u001b[0m\u001b[1;33m\u001b[0m\u001b[0m\n\u001b[0m\u001b[0;32m   1074\u001b[0m \u001b[1;33m\u001b[0m\u001b[0m\n\u001b[0;32m   1075\u001b[0m     \u001b[1;32mdef\u001b[0m \u001b[0m_handle_lowerdim_multi_index_axis0\u001b[0m\u001b[1;33m(\u001b[0m\u001b[0mself\u001b[0m\u001b[1;33m,\u001b[0m \u001b[0mtup\u001b[0m\u001b[1;33m:\u001b[0m \u001b[0mTuple\u001b[0m\u001b[1;33m)\u001b[0m\u001b[1;33m:\u001b[0m\u001b[1;33m\u001b[0m\u001b[1;33m\u001b[0m\u001b[0m\n",
      "\u001b[1;32mc:\\Users\\sevi\\anaconda3\\lib\\site-packages\\pandas\\core\\generic.py\u001b[0m in \u001b[0;36mxs\u001b[1;34m(self, key, axis, level, drop_level)\u001b[0m\n\u001b[0;32m   3737\u001b[0m                 \u001b[1;32mraise\u001b[0m \u001b[0mTypeError\u001b[0m\u001b[1;33m(\u001b[0m\u001b[1;34mf\"Expected label or tuple of labels, got {key}\"\u001b[0m\u001b[1;33m)\u001b[0m \u001b[1;32mfrom\u001b[0m \u001b[0me\u001b[0m\u001b[1;33m\u001b[0m\u001b[1;33m\u001b[0m\u001b[0m\n\u001b[0;32m   3738\u001b[0m         \u001b[1;32melse\u001b[0m\u001b[1;33m:\u001b[0m\u001b[1;33m\u001b[0m\u001b[1;33m\u001b[0m\u001b[0m\n\u001b[1;32m-> 3739\u001b[1;33m             \u001b[0mloc\u001b[0m \u001b[1;33m=\u001b[0m \u001b[0mindex\u001b[0m\u001b[1;33m.\u001b[0m\u001b[0mget_loc\u001b[0m\u001b[1;33m(\u001b[0m\u001b[0mkey\u001b[0m\u001b[1;33m)\u001b[0m\u001b[1;33m\u001b[0m\u001b[1;33m\u001b[0m\u001b[0m\n\u001b[0m\u001b[0;32m   3740\u001b[0m \u001b[1;33m\u001b[0m\u001b[0m\n\u001b[0;32m   3741\u001b[0m             \u001b[1;32mif\u001b[0m \u001b[0misinstance\u001b[0m\u001b[1;33m(\u001b[0m\u001b[0mloc\u001b[0m\u001b[1;33m,\u001b[0m \u001b[0mnp\u001b[0m\u001b[1;33m.\u001b[0m\u001b[0mndarray\u001b[0m\u001b[1;33m)\u001b[0m\u001b[1;33m:\u001b[0m\u001b[1;33m\u001b[0m\u001b[1;33m\u001b[0m\u001b[0m\n",
      "\u001b[1;32mc:\\Users\\sevi\\anaconda3\\lib\\site-packages\\pandas\\core\\indexes\\base.py\u001b[0m in \u001b[0;36mget_loc\u001b[1;34m(self, key, method, tolerance)\u001b[0m\n\u001b[0;32m   3080\u001b[0m                 \u001b[1;32mreturn\u001b[0m \u001b[0mself\u001b[0m\u001b[1;33m.\u001b[0m\u001b[0m_engine\u001b[0m\u001b[1;33m.\u001b[0m\u001b[0mget_loc\u001b[0m\u001b[1;33m(\u001b[0m\u001b[0mcasted_key\u001b[0m\u001b[1;33m)\u001b[0m\u001b[1;33m\u001b[0m\u001b[1;33m\u001b[0m\u001b[0m\n\u001b[0;32m   3081\u001b[0m             \u001b[1;32mexcept\u001b[0m \u001b[0mKeyError\u001b[0m \u001b[1;32mas\u001b[0m \u001b[0merr\u001b[0m\u001b[1;33m:\u001b[0m\u001b[1;33m\u001b[0m\u001b[1;33m\u001b[0m\u001b[0m\n\u001b[1;32m-> 3082\u001b[1;33m                 \u001b[1;32mraise\u001b[0m \u001b[0mKeyError\u001b[0m\u001b[1;33m(\u001b[0m\u001b[0mkey\u001b[0m\u001b[1;33m)\u001b[0m \u001b[1;32mfrom\u001b[0m \u001b[0merr\u001b[0m\u001b[1;33m\u001b[0m\u001b[1;33m\u001b[0m\u001b[0m\n\u001b[0m\u001b[0;32m   3083\u001b[0m \u001b[1;33m\u001b[0m\u001b[0m\n\u001b[0;32m   3084\u001b[0m         \u001b[1;32mif\u001b[0m \u001b[0mtolerance\u001b[0m \u001b[1;32mis\u001b[0m \u001b[1;32mnot\u001b[0m \u001b[1;32mNone\u001b[0m\u001b[1;33m:\u001b[0m\u001b[1;33m\u001b[0m\u001b[1;33m\u001b[0m\u001b[0m\n",
      "\u001b[1;31mKeyError\u001b[0m: 'AI Safety Researcher'"
     ]
    },
    {
     "data": {
      "image/png": "[encoded data removed]",
      "text/plain": [
       "<Figure size 1080x648 with 1 Axes>"
      ]
     },
     "metadata": {
      "needs_background": "light"
     },
     "output_type": "display_data"
    }
   ],
   "source": [
    "import matplotlib.pyplot as plt\n",
    "import seaborn as sns\n",
    "import numpy as np\n",
    "import pandas as pd\n",
    "\n",
    "fig, ax = plt.subplots(figsize=(15, 9))\n",
    "\n",
    "x = range(1, 10)\n",
    "bar_width = 0.6\n",
    "\n",
    "# Calculate total means and standard deviations\n",
    "total_means = pre_means\n",
    "total_stds = df[['Q6_1', 'Q6_2', 'Q6_3', 'Q6_4', 'Q6_5', 'Q6_6', 'Q6_7', 'Q6_8', 'Q6_9']].std()\n",
    "\n",
    "# Plot total means with error bars\n",
    "bars = ax.bar(x, total_means, color='lightblue', alpha=0.7, width=bar_width, yerr=total_stds, capsize=5, zorder=1)\n",
    "\n",
    "# Define color palette explicitly\n",
    "groups = ['AI Safety Researcher', 'Academic', 'Industry', 'Other']\n",
    "colors = sns.color_palette(\"husl\", n_colors=len(groups))\n",
    "\n",
    "# Calculate offsets for spreading out the points\n",
    "num_groups = len(groups)\n",
    "offsets = np.linspace(-bar_width/2 + bar_width/(num_groups*2), \n",
    "                      bar_width/2 - bar_width/(num_groups*2), \n",
    "                      num_groups)\n",
    "\n",
    "# Plot group means as scatter points with error bars\n",
    "for i, group in enumerate(groups):\n",
    "    pre_group_means_row = pre_group_means.loc[group, ['Q6_1', 'Q6_2', 'Q6_3', 'Q6_4', 'Q6_5', 'Q6_6', 'Q6_7', 'Q6_8', 'Q6_9']]\n",
    "    \n",
    "    # Calculate standard deviations for this group\n",
    "    group_stds = df[df['Q1'] == group][['Q6_1', 'Q6_2', 'Q6_3', 'Q6_4', 'Q6_5', 'Q6_6', 'Q6_7', 'Q6_8', 'Q6_9']].std()\n",
    "    \n",
    "    for j in range(9):\n",
    "        x_pos = x[j] + offsets[i]\n",
    "        ax.errorbar(x_pos, pre_group_means_row[j], yerr=group_stds[j], \n",
    "                    fmt='o', color=colors[i], capsize=5, capthick=1, zorder=2)\n",
    "\n",
    "# Customize the plot\n",
    "ax.set_ylabel('Agreement Level', fontsize='medium')\n",
    "ax.set_xlabel('Statements', fontsize='medium')\n",
    "ax.set_title('Pre-Reading Agreement Levels with Standard Deviations', fontsize='large')\n",
    "ax.set_xticks(x)\n",
    "ax.set_xticklabels([f'S{i}' for i in range(1, 10)])\n",
    "\n",
    "# Create legend with correct colors\n",
    "legend_elements = [plt.Line2D([0], [0], marker='o', color='w', label=group, \n",
    "                   markerfacecolor=color, markersize=10) \n",
    "                   for group, color in zip(groups, colors)]\n",
    "ax.legend(handles=legend_elements, title='Groups', fontsize='x-small', title_fontsize='small')\n",
    "\n",
    "# Set y-axis limits to accommodate error bars\n",
    "y_min = 0  # Assuming agreement levels start at 0\n",
    "y_max = max((pre_group_means + group_stds).max().max(), (total_means + total_stds).max()) + 0.5\n",
    "ax.set_ylim(y_min, y_max)\n",
    "\n",
    "plt.tight_layout()\n",
    "plt.show()"
   ]
  },
  {
   "cell_type": "code",
   "execution_count": null,
   "metadata": {},
   "outputs": [],
   "source": []
  },
  {
   "cell_type": "code",
   "execution_count": null,
   "metadata": {},
   "outputs": [],
   "source": []
  },
  {
   "cell_type": "code",
   "execution_count": 17,
   "metadata": {},
   "outputs": [
    {
     "data": {
      "text/plain": [
       "Q6_1    2.976190\n",
       "Q6_2    3.337349\n",
       "Q6_3    2.542169\n",
       "Q6_4    3.060241\n",
       "Q6_5    3.132530\n",
       "Q6_6    2.756098\n",
       "Q6_7    3.385542\n",
       "Q6_8    2.168675\n",
       "Q6_9    3.915663\n",
       "dtype: float64"
      ]
     },
     "execution_count": 17,
     "metadata": {},
     "output_type": "execute_result"
    }
   ],
   "source": [
    "pre_means"
   ]
  },
  {
   "cell_type": "code",
   "execution_count": 18,
   "metadata": {},
   "outputs": [
    {
     "data": {
      "text/html": [
       "<div>\n",
       "<style scoped>\n",
       "    .dataframe tbody tr th:only-of-type {\n",
       "        vertical-align: middle;\n",
       "    }\n",
       "\n",
       "    .dataframe tbody tr th {\n",
       "        vertical-align: top;\n",
       "    }\n",
       "\n",
       "    .dataframe thead th {\n",
       "        text-align: right;\n",
       "    }\n",
       "</style>\n",
       "<table border=\"1\" class=\"dataframe\">\n",
       "  <thead>\n",
       "    <tr style=\"text-align: right;\">\n",
       "      <th></th>\n",
       "      <th>Q6_1</th>\n",
       "      <th>Q6_2</th>\n",
       "      <th>Q6_3</th>\n",
       "      <th>Q6_4</th>\n",
       "      <th>Q6_5</th>\n",
       "      <th>Q6_6</th>\n",
       "      <th>Q6_7</th>\n",
       "      <th>Q6_8</th>\n",
       "      <th>Q6_9</th>\n",
       "    </tr>\n",
       "    <tr>\n",
       "      <th>Q1</th>\n",
       "      <th></th>\n",
       "      <th></th>\n",
       "      <th></th>\n",
       "      <th></th>\n",
       "      <th></th>\n",
       "      <th></th>\n",
       "      <th></th>\n",
       "      <th></th>\n",
       "      <th></th>\n",
       "    </tr>\n",
       "  </thead>\n",
       "  <tbody>\n",
       "    <tr>\n",
       "      <th>AI Safety Researcher</th>\n",
       "      <td>1.857143</td>\n",
       "      <td>4.285714</td>\n",
       "      <td>3.571429</td>\n",
       "      <td>2.571429</td>\n",
       "      <td>1.571429</td>\n",
       "      <td>1.285714</td>\n",
       "      <td>3.714286</td>\n",
       "      <td>2.142857</td>\n",
       "      <td>4.714286</td>\n",
       "    </tr>\n",
       "    <tr>\n",
       "      <th>Academic</th>\n",
       "      <td>3.178571</td>\n",
       "      <td>3.290909</td>\n",
       "      <td>2.400000</td>\n",
       "      <td>3.090909</td>\n",
       "      <td>3.272727</td>\n",
       "      <td>2.927273</td>\n",
       "      <td>3.345455</td>\n",
       "      <td>2.290909</td>\n",
       "      <td>3.945455</td>\n",
       "    </tr>\n",
       "    <tr>\n",
       "      <th>Industry</th>\n",
       "      <td>2.928571</td>\n",
       "      <td>3.214286</td>\n",
       "      <td>2.285714</td>\n",
       "      <td>3.500000</td>\n",
       "      <td>3.571429</td>\n",
       "      <td>2.714286</td>\n",
       "      <td>3.357143</td>\n",
       "      <td>1.857143</td>\n",
       "      <td>3.714286</td>\n",
       "    </tr>\n",
       "    <tr>\n",
       "      <th>Other</th>\n",
       "      <td>2.500000</td>\n",
       "      <td>3.000000</td>\n",
       "      <td>3.166667</td>\n",
       "      <td>2.333333</td>\n",
       "      <td>2.833333</td>\n",
       "      <td>3.200000</td>\n",
       "      <td>3.500000</td>\n",
       "      <td>2.000000</td>\n",
       "      <td>3.666667</td>\n",
       "    </tr>\n",
       "  </tbody>\n",
       "</table>\n",
       "</div>"
      ],
      "text/plain": [
       "                          Q6_1      Q6_2      Q6_3      Q6_4      Q6_5  \\\n",
       "Q1                                                                       \n",
       "AI Safety Researcher  1.857143  4.285714  3.571429  2.571429  1.571429   \n",
       "Academic              3.178571  3.290909  2.400000  3.090909  3.272727   \n",
       "Industry              2.928571  3.214286  2.285714  3.500000  3.571429   \n",
       "Other                 2.500000  3.000000  3.166667  2.333333  2.833333   \n",
       "\n",
       "                          Q6_6      Q6_7      Q6_8      Q6_9  \n",
       "Q1                                                            \n",
       "AI Safety Researcher  1.285714  3.714286  2.142857  4.714286  \n",
       "Academic              2.927273  3.345455  2.290909  3.945455  \n",
       "Industry              2.714286  3.357143  1.857143  3.714286  \n",
       "Other                 3.200000  3.500000  2.000000  3.666667  "
      ]
     },
     "execution_count": 18,
     "metadata": {},
     "output_type": "execute_result"
    }
   ],
   "source": [
    "pre_group_means"
   ]
  },
  {
   "cell_type": "code",
   "execution_count": 19,
   "metadata": {},
   "outputs": [
    {
     "name": "stdout",
     "output_type": "stream",
     "text": [
      "Q6_1    2.976190\n",
      "Q6_2    3.337349\n",
      "Q6_3    2.542169\n",
      "Q6_4    3.060241\n",
      "Q6_5    3.132530\n",
      "Q6_6    2.756098\n",
      "Q6_7    3.385542\n",
      "Q6_8    2.168675\n",
      "Q6_9    3.915663\n",
      "dtype: float64\n",
      "[2.97619048 3.3373494  2.54216867 3.06024096 3.13253012 2.75609756\n",
      " 3.38554217 2.1686747  3.91566265]\n"
     ]
    }
   ],
   "source": [
    "print(pre_means)\n",
    "\n",
    "# print just the VALUES in the pre_means\n",
    "print(pre_means.values)"
   ]
  },
  {
   "cell_type": "code",
   "execution_count": 20,
   "metadata": {},
   "outputs": [],
   "source": [
    "\n",
    "# Prepare data for plotting\n",
    "plot_data = pd.DataFrame({\n",
    "    'Statement': [f'S{i}' for i in range(1, 10)],\n",
    "    'Pre_Mean': pre_means.values,\n",
    "    'Post_Mean': post_means.values\n",
    "})\n"
   ]
  },
  {
   "cell_type": "code",
   "execution_count": 21,
   "metadata": {},
   "outputs": [
    {
     "data": {
      "text/html": [
       "<div>\n",
       "<style scoped>\n",
       "    .dataframe tbody tr th:only-of-type {\n",
       "        vertical-align: middle;\n",
       "    }\n",
       "\n",
       "    .dataframe tbody tr th {\n",
       "        vertical-align: top;\n",
       "    }\n",
       "\n",
       "    .dataframe thead th {\n",
       "        text-align: right;\n",
       "    }\n",
       "</style>\n",
       "<table border=\"1\" class=\"dataframe\">\n",
       "  <thead>\n",
       "    <tr style=\"text-align: right;\">\n",
       "      <th></th>\n",
       "      <th>Statement</th>\n",
       "      <th>Pre_Mean</th>\n",
       "      <th>Post_Mean</th>\n",
       "    </tr>\n",
       "  </thead>\n",
       "  <tbody>\n",
       "    <tr>\n",
       "      <th>0</th>\n",
       "      <td>S1</td>\n",
       "      <td>2.976190</td>\n",
       "      <td>2.920635</td>\n",
       "    </tr>\n",
       "    <tr>\n",
       "      <th>1</th>\n",
       "      <td>S2</td>\n",
       "      <td>3.337349</td>\n",
       "      <td>3.209677</td>\n",
       "    </tr>\n",
       "    <tr>\n",
       "      <th>2</th>\n",
       "      <td>S3</td>\n",
       "      <td>2.542169</td>\n",
       "      <td>2.596774</td>\n",
       "    </tr>\n",
       "    <tr>\n",
       "      <th>3</th>\n",
       "      <td>S4</td>\n",
       "      <td>3.060241</td>\n",
       "      <td>3.064516</td>\n",
       "    </tr>\n",
       "    <tr>\n",
       "      <th>4</th>\n",
       "      <td>S5</td>\n",
       "      <td>3.132530</td>\n",
       "      <td>3.129032</td>\n",
       "    </tr>\n",
       "    <tr>\n",
       "      <th>5</th>\n",
       "      <td>S6</td>\n",
       "      <td>2.756098</td>\n",
       "      <td>2.622951</td>\n",
       "    </tr>\n",
       "    <tr>\n",
       "      <th>6</th>\n",
       "      <td>S7</td>\n",
       "      <td>3.385542</td>\n",
       "      <td>3.229508</td>\n",
       "    </tr>\n",
       "    <tr>\n",
       "      <th>7</th>\n",
       "      <td>S8</td>\n",
       "      <td>2.168675</td>\n",
       "      <td>2.147541</td>\n",
       "    </tr>\n",
       "    <tr>\n",
       "      <th>8</th>\n",
       "      <td>S9</td>\n",
       "      <td>3.915663</td>\n",
       "      <td>4.049180</td>\n",
       "    </tr>\n",
       "  </tbody>\n",
       "</table>\n",
       "</div>"
      ],
      "text/plain": [
       "  Statement  Pre_Mean  Post_Mean\n",
       "0        S1  2.976190   2.920635\n",
       "1        S2  3.337349   3.209677\n",
       "2        S3  2.542169   2.596774\n",
       "3        S4  3.060241   3.064516\n",
       "4        S5  3.132530   3.129032\n",
       "5        S6  2.756098   2.622951\n",
       "6        S7  3.385542   3.229508\n",
       "7        S8  2.168675   2.147541\n",
       "8        S9  3.915663   4.049180"
      ]
     },
     "execution_count": 21,
     "metadata": {},
     "output_type": "execute_result"
    }
   ],
   "source": [
    "plot_data"
   ]
  },
  {
   "cell_type": "code",
   "execution_count": 22,
   "metadata": {},
   "outputs": [],
   "source": [
    "\n",
    "# Calculate the change in agreement\n",
    "plot_data['Change'] = plot_data['Post_Mean'] - plot_data['Pre_Mean']"
   ]
  },
  {
   "cell_type": "code",
   "execution_count": 23,
   "metadata": {},
   "outputs": [
    {
     "data": {
      "text/html": [
       "<div>\n",
       "<style scoped>\n",
       "    .dataframe tbody tr th:only-of-type {\n",
       "        vertical-align: middle;\n",
       "    }\n",
       "\n",
       "    .dataframe tbody tr th {\n",
       "        vertical-align: top;\n",
       "    }\n",
       "\n",
       "    .dataframe thead th {\n",
       "        text-align: right;\n",
       "    }\n",
       "</style>\n",
       "<table border=\"1\" class=\"dataframe\">\n",
       "  <thead>\n",
       "    <tr style=\"text-align: right;\">\n",
       "      <th></th>\n",
       "      <th>Statement</th>\n",
       "      <th>Pre_Mean</th>\n",
       "      <th>Post_Mean</th>\n",
       "      <th>Change</th>\n",
       "    </tr>\n",
       "  </thead>\n",
       "  <tbody>\n",
       "    <tr>\n",
       "      <th>0</th>\n",
       "      <td>S1</td>\n",
       "      <td>2.976190</td>\n",
       "      <td>2.920635</td>\n",
       "      <td>-0.055556</td>\n",
       "    </tr>\n",
       "    <tr>\n",
       "      <th>1</th>\n",
       "      <td>S2</td>\n",
       "      <td>3.337349</td>\n",
       "      <td>3.209677</td>\n",
       "      <td>-0.127672</td>\n",
       "    </tr>\n",
       "    <tr>\n",
       "      <th>2</th>\n",
       "      <td>S3</td>\n",
       "      <td>2.542169</td>\n",
       "      <td>2.596774</td>\n",
       "      <td>0.054606</td>\n",
       "    </tr>\n",
       "    <tr>\n",
       "      <th>3</th>\n",
       "      <td>S4</td>\n",
       "      <td>3.060241</td>\n",
       "      <td>3.064516</td>\n",
       "      <td>0.004275</td>\n",
       "    </tr>\n",
       "    <tr>\n",
       "      <th>4</th>\n",
       "      <td>S5</td>\n",
       "      <td>3.132530</td>\n",
       "      <td>3.129032</td>\n",
       "      <td>-0.003498</td>\n",
       "    </tr>\n",
       "    <tr>\n",
       "      <th>5</th>\n",
       "      <td>S6</td>\n",
       "      <td>2.756098</td>\n",
       "      <td>2.622951</td>\n",
       "      <td>-0.133147</td>\n",
       "    </tr>\n",
       "    <tr>\n",
       "      <th>6</th>\n",
       "      <td>S7</td>\n",
       "      <td>3.385542</td>\n",
       "      <td>3.229508</td>\n",
       "      <td>-0.156034</td>\n",
       "    </tr>\n",
       "    <tr>\n",
       "      <th>7</th>\n",
       "      <td>S8</td>\n",
       "      <td>2.168675</td>\n",
       "      <td>2.147541</td>\n",
       "      <td>-0.021134</td>\n",
       "    </tr>\n",
       "    <tr>\n",
       "      <th>8</th>\n",
       "      <td>S9</td>\n",
       "      <td>3.915663</td>\n",
       "      <td>4.049180</td>\n",
       "      <td>0.133518</td>\n",
       "    </tr>\n",
       "  </tbody>\n",
       "</table>\n",
       "</div>"
      ],
      "text/plain": [
       "  Statement  Pre_Mean  Post_Mean    Change\n",
       "0        S1  2.976190   2.920635 -0.055556\n",
       "1        S2  3.337349   3.209677 -0.127672\n",
       "2        S3  2.542169   2.596774  0.054606\n",
       "3        S4  3.060241   3.064516  0.004275\n",
       "4        S5  3.132530   3.129032 -0.003498\n",
       "5        S6  2.756098   2.622951 -0.133147\n",
       "6        S7  3.385542   3.229508 -0.156034\n",
       "7        S8  2.168675   2.147541 -0.021134\n",
       "8        S9  3.915663   4.049180  0.133518"
      ]
     },
     "execution_count": 23,
     "metadata": {},
     "output_type": "execute_result"
    }
   ],
   "source": [
    "plot_data"
   ]
  },
  {
   "cell_type": "code",
   "execution_count": null,
   "metadata": {},
   "outputs": [],
   "source": []
  }
 ],
 "metadata": {
  "kernelspec": {
   "display_name": "base",
   "language": "python",
   "name": "python3"
  },
  "language_info": {
   "codemirror_mode": {
    "name": "ipython",
    "version": 3
   },
   "file_extension": ".py",
   "mimetype": "text/x-python",
   "name": "python",
   "nbconvert_exporter": "python",
   "pygments_lexer": "ipython3",
   "version": "3.8.8"
  }
 },
 "nbformat": 4,
 "nbformat_minor": 2
}
