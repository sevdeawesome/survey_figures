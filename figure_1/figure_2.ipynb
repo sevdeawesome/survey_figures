{
 "cells": [
  {
   "cell_type": "code",
   "execution_count": 2,
   "metadata": {},
   "outputs": [],
   "source": [
    "import pandas as pd\n",
    "\n",
    "import numpy as np\n",
    "import seaborn as sns\n",
    "import matplotlib.pyplot as plt\n",
    "from utils import *\n",
    "\n",
    "plt.style.use('../style.mplstyle')\n",
    "df = pd.read_csv(\"../latest.csv\")"
   ]
  },
  {
   "cell_type": "code",
   "execution_count": 2,
   "metadata": {},
   "outputs": [],
   "source": []
  },
  {
   "cell_type": "code",
   "execution_count": 3,
   "metadata": {},
   "outputs": [],
   "source": [
    "df = fix_data(df, drop_zeros=False)"
   ]
  },
  {
   "cell_type": "code",
   "execution_count": 4,
   "metadata": {},
   "outputs": [
    {
     "name": "stdout",
     "output_type": "stream",
     "text": [
      "length of df:  106\n",
      "\n",
      "\n"
     ]
    },
    {
     "data": {
      "text/html": [
       "<div>\n",
       "<style scoped>\n",
       "    .dataframe tbody tr th:only-of-type {\n",
       "        vertical-align: middle;\n",
       "    }\n",
       "\n",
       "    .dataframe tbody tr th {\n",
       "        vertical-align: top;\n",
       "    }\n",
       "\n",
       "    .dataframe thead th {\n",
       "        text-align: right;\n",
       "    }\n",
       "</style>\n",
       "<table border=\"1\" class=\"dataframe\">\n",
       "  <thead>\n",
       "    <tr style=\"text-align: right;\">\n",
       "      <th></th>\n",
       "      <th>StartDate</th>\n",
       "      <th>reading</th>\n",
       "      <th>Duration</th>\n",
       "      <th>Progress</th>\n",
       "      <th>Finished</th>\n",
       "      <th>Q42</th>\n",
       "      <th>Q43</th>\n",
       "      <th>Q1</th>\n",
       "      <th>Q1_7_TEXT</th>\n",
       "      <th>Q2</th>\n",
       "      <th>...</th>\n",
       "      <th>Q16_3</th>\n",
       "      <th>Q16_4</th>\n",
       "      <th>Q16_5</th>\n",
       "      <th>Q16_6</th>\n",
       "      <th>Q16_7</th>\n",
       "      <th>Q16_8</th>\n",
       "      <th>Q16_9</th>\n",
       "      <th>Q17</th>\n",
       "      <th>Q18</th>\n",
       "      <th>Q46</th>\n",
       "    </tr>\n",
       "  </thead>\n",
       "  <tbody>\n",
       "    <tr>\n",
       "      <th>0</th>\n",
       "      <td>2024-08-08 23:30:29</td>\n",
       "      <td>7</td>\n",
       "      <td>118</td>\n",
       "      <td>100</td>\n",
       "      <td>True</td>\n",
       "      <td>Agree</td>\n",
       "      <td>LinkedIn DM</td>\n",
       "      <td>Industry</td>\n",
       "      <td>NaN</td>\n",
       "      <td>2.0</td>\n",
       "      <td>...</td>\n",
       "      <td>Somewhat agree</td>\n",
       "      <td>Somewhat agree</td>\n",
       "      <td>Somewhat agree</td>\n",
       "      <td>Somewhat agree</td>\n",
       "      <td>Somewhat agree</td>\n",
       "      <td>Somewhat agree</td>\n",
       "      <td>Somewhat agree</td>\n",
       "      <td>NaN</td>\n",
       "      <td>NaN</td>\n",
       "      <td>NaN</td>\n",
       "    </tr>\n",
       "  </tbody>\n",
       "</table>\n",
       "<p>1 rows × 41 columns</p>\n",
       "</div>"
      ],
      "text/plain": [
       "             StartDate  reading  Duration  Progress  Finished    Q42  \\\n",
       "0  2024-08-08 23:30:29        7       118       100      True  Agree   \n",
       "\n",
       "           Q43        Q1  Q1_7_TEXT   Q2  ...           Q16_3           Q16_4  \\\n",
       "0  LinkedIn DM  Industry        NaN  2.0  ...  Somewhat agree  Somewhat agree   \n",
       "\n",
       "            Q16_5           Q16_6           Q16_7           Q16_8  \\\n",
       "0  Somewhat agree  Somewhat agree  Somewhat agree  Somewhat agree   \n",
       "\n",
       "            Q16_9  Q17  Q18  Q46  \n",
       "0  Somewhat agree  NaN  NaN  NaN  \n",
       "\n",
       "[1 rows x 41 columns]"
      ]
     },
     "execution_count": 4,
     "metadata": {},
     "output_type": "execute_result"
    }
   ],
   "source": [
    "print(\"length of df: \", len(df))\n",
    "print('\\n')\n",
    "df.head(1)"
   ]
  },
  {
   "cell_type": "markdown",
   "metadata": {},
   "source": [
    "# BOX PLOT (years of experience)"
   ]
  },
  {
   "cell_type": "code",
   "execution_count": 5,
   "metadata": {},
   "outputs": [
    {
     "data": {
      "text/plain": [
       "0      Industry\n",
       "1      Industry\n",
       "2      Academic\n",
       "3      Industry\n",
       "4      Industry\n",
       "         ...   \n",
       "101         NaN\n",
       "102    Academic\n",
       "103    Academic\n",
       "104         NaN\n",
       "105    Academic\n",
       "Name: Q1, Length: 106, dtype: object"
      ]
     },
     "execution_count": 5,
     "metadata": {},
     "output_type": "execute_result"
    }
   ],
   "source": [
    "df['Q1']"
   ]
  },
  {
   "cell_type": "code",
   "execution_count": 10,
   "metadata": {},
   "outputs": [
    {
     "data": {
      "image/png": "[encoded data removed]",
      "text/plain": [
       "<Figure size 504x288 with 1 Axes>"
      ]
     },
     "metadata": {
      "needs_background": "light"
     },
     "output_type": "display_data"
    }
   ],
   "source": [
    "import matplotlib.pyplot as plt\n",
    "import numpy as np\n",
    "import pandas as pd\n",
    "from scipy import stats\n",
    "\n",
    "# Assume df is your dataframe\n",
    "# df = pd.read_csv('your_data.csv')\n",
    "\n",
    "# Calculate mean and SEM for each group\n",
    "grouped = df.groupby('Q1')['Q2']\n",
    "means = grouped.mean()\n",
    "sems = grouped.apply(lambda x: stats.sem(x, nan_policy='omit'))\n",
    "\n",
    "# Set up the plot\n",
    "plt.figure(figsize=(7, 4))  # As per requirement 1\n",
    "plt.rcParams['font.family'] = 'serif'  # As per requirement 2\n",
    "plt.rcParams['xtick.labelsize'] = 'x-small'\n",
    "plt.rcParams['ytick.labelsize'] = 'x-small'\n",
    "\n",
    "# Create the bar plot\n",
    "bars = plt.bar(means.index, means.values, yerr=sems.values, capsize=5, color='lightgray', edgecolor='black')\n",
    "\n",
    "# Customize the plot\n",
    "plt.xlabel('Participant Category', fontsize='small')\n",
    "plt.ylabel('Years of Experience', fontsize='small')\n",
    "plt.title('Years of Experience by Participant Category', fontsize='medium')\n",
    "\n",
    "# Add value labels on top of each bar\n",
    "for bar in bars:\n",
    "    height = bar.get_height()\n",
    "    plt.text(bar.get_x() + bar.get_width()/2., height,\n",
    "             f'{height:.1f}',\n",
    "             ha='center', va='bottom', fontsize='x-small')\n",
    "\n",
    "# Adjust layout and save\n",
    "plt.tight_layout()\n",
    "plt.show()\n",
    "# plt.savefig('experience_by_category.pdf', format='pdf', dpi=300)\n",
    "# plt.close()"
   ]
  },
  {
   "cell_type": "code",
   "execution_count": 29,
   "metadata": {},
   "outputs": [
    {
     "data": {
      "image/png": "[encoded data removed]",
      "text/plain": [
       "<Figure size 648x288 with 1 Axes>"
      ]
     },
     "metadata": {
      "needs_background": "light"
     },
     "output_type": "display_data"
    }
   ],
   "source": [
    "\n",
    "\n",
    "boxplot = df.boxplot(column='Q2', by='Q1', figsize=(9, 4), \n",
    "                     medianprops=dict(color=\"black\"),\n",
    "                     flierprops=dict(markerfacecolor=\"gray\", markersize=3),\n",
    "                     whiskerprops=dict(color=\"black\"),\n",
    "                    capprops=dict(color=\"black\"))\n",
    "\n",
    "\n",
    "plt.xlabel('Participant Category', fontsize='small')\n",
    "plt.ylabel('Years of Experience', fontsize='small')\n",
    "plt.title('Years of Experience by Participant Category', fontsize='medium')\n",
    "plt.suptitle('')  # Remove the automatic suptitle added by pandas\n",
    "\n",
    "# Adjust layout and save\n",
    "# plt.tight_layout()\n",
    "plt.show()"
   ]
  },
  {
   "cell_type": "code",
   "execution_count": null,
   "metadata": {},
   "outputs": [],
   "source": []
  }
 ],
 "metadata": {
  "kernelspec": {
   "display_name": "base",
   "language": "python",
   "name": "python3"
  },
  "language_info": {
   "codemirror_mode": {
    "name": "ipython",
    "version": 3
   },
   "file_extension": ".py",
   "mimetype": "text/x-python",
   "name": "python",
   "nbconvert_exporter": "python",
   "pygments_lexer": "ipython3",
   "version": "3.9.7"
  }
 },
 "nbformat": 4,
 "nbformat_minor": 2
}
